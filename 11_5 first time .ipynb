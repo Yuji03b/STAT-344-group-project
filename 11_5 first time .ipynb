{
 "cells": [
  {
   "cell_type": "markdown",
   "id": "f137914c-8d6f-4313-b69a-ab997b2b2522",
   "metadata": {},
   "source": [
    "# STAT 344 GROUP PROJECT\n",
    "\n"
   ]
  },
  {
   "cell_type": "code",
   "execution_count": 31,
   "id": "aca29ddd-7b94-4712-b8a1-3a8c4af1a42c",
   "metadata": {
    "tags": []
   },
   "outputs": [],
   "source": [
    "# Run this cell before continuing.\n",
    "library(dplyr)\n",
    "library(ggplot2)\n",
    "library(tibble)\n",
    "library(infer)\n",
    "\n"
   ]
  },
  {
   "cell_type": "code",
   "execution_count": 2,
   "id": "ff2216b4-1a77-4d74-b2eb-0391c53043c4",
   "metadata": {
    "tags": []
   },
   "outputs": [],
   "source": [
    "student_df<-read.csv(\"https://raw.githubusercontent.com/Yuji03b/STAT-344-group-project/main/student_data.csv\",header=T)"
   ]
  },
  {
   "cell_type": "markdown",
   "id": "2099ed2a-d27b-4c37-80ca-3f7b5a497a5e",
   "metadata": {},
   "source": [
    "### 1. How to decide the stratified?\n",
    "- create a table to show the varience between each strata, the larger the best, there are two reasonable strat \"school\" and \"gender\""
   ]
  },
  {
   "cell_type": "code",
   "execution_count": null,
   "id": "b3e8e11c-140a-4d15-a92b-0057af031534",
   "metadata": {},
   "outputs": [],
   "source": []
  },
  {
   "cell_type": "markdown",
   "id": "667d07c3-9010-468d-b6d8-70cf17a61b28",
   "metadata": {},
   "source": [
    "### 3. Our first parameter is : avergae final grade G3 "
   ]
  },
  {
   "cell_type": "code",
   "execution_count": 4,
   "id": "6442a782-1d7c-4752-a8a3-f586020251a6",
   "metadata": {
    "tags": []
   },
   "outputs": [],
   "source": [
    "n <- 100             #(sample size\n",
    "N <- nrow(student_df)  # population size\n",
    "\n",
    "female_data <- subset(student_df,sex==\"F\")  # the female population \n",
    "male_data <- subset(student_df,sex==\"M\")  # the male population\n",
    "\n",
    "female_N<-nrow(female_data)    # the female student population size\n",
    "male_N<-nrow(male_data)      # the male student population size"
   ]
  },
  {
   "cell_type": "code",
   "execution_count": 5,
   "id": "5831bb32-b530-4562-96a6-cd60da61a722",
   "metadata": {
    "tags": []
   },
   "outputs": [
    {
     "data": {
      "text/html": [
       "4.62233833743113"
      ],
      "text/latex": [
       "4.62233833743113"
      ],
      "text/markdown": [
       "4.62233833743113"
      ],
      "text/plain": [
       "[1] 4.622338"
      ]
     },
     "metadata": {},
     "output_type": "display_data"
    },
    {
     "data": {
      "text/html": [
       "4.49529683498638"
      ],
      "text/latex": [
       "4.49529683498638"
      ],
      "text/markdown": [
       "4.49529683498638"
      ],
      "text/plain": [
       "[1] 4.495297"
      ]
     },
     "metadata": {},
     "output_type": "display_data"
    }
   ],
   "source": [
    "sd(female_data$G3)\n",
    "sd(male_data$G3)\n",
    "### !!can make some comment on the difference in subpopulation standard deviation"
   ]
  },
  {
   "cell_type": "markdown",
   "id": "a2822452-a585-4a9c-87c0-5d0aad8083c7",
   "metadata": {},
   "source": [
    "\n",
    "\n"
   ]
  },
  {
   "cell_type": "markdown",
   "id": "58398d49-5bb6-4d2e-b15c-c6187a6db9e5",
   "metadata": {},
   "source": [
    "### 3.1 Stratified sample :using proportional allocation N_k/N"
   ]
  },
  {
   "cell_type": "code",
   "execution_count": 6,
   "id": "a34e05d8-3907-437c-9fd9-9817776c79d7",
   "metadata": {
    "tags": []
   },
   "outputs": [],
   "source": [
    "#using proportional allocation N_k/N\n",
    "set.seed(12345)\n",
    "female_n <- round(n*(female_N/N))\n",
    "male_n <- round(n*(male_N/N))\n",
    "female_sample <- rep_sample_n(female_data,size=female_n,replace=F)\n",
    "male_sample <- rep_sample_n(male_data,size=male_n,replace=F)"
   ]
  },
  {
   "cell_type": "code",
   "execution_count": 7,
   "id": "ce0a2eb7-b467-4135-b3b2-45cd413c4848",
   "metadata": {
    "tags": []
   },
   "outputs": [],
   "source": [
    "stratified_mean_grade <- mean(female_sample$G3)*(female_N/N)+mean(male_sample$G3)*(male_N/N)  # estimate of stratified mean\n",
    "\n",
    "\n",
    "# standard error of stratified mean grade\n",
    "female_FPC <- 1-female_n/female_N\n",
    "male_FPC <- 1-male_n/male_N\n",
    "\n",
    "se_stratified<-sqrt((female_N/N)^2*female_FPC*var(female_sample$G3)/female_n+\n",
    "                   (male_N/N)^2*male_FPC*var(male_sample$G3)/male_n)\n",
    "\n",
    "\n",
    "#95% confidence interval\n",
    "stratified_CI<- c(stratified_mean_grade - 1.96* se_stratified,stratified_mean_grade + 1.96* se_stratified)"
   ]
  },
  {
   "cell_type": "code",
   "execution_count": 8,
   "id": "3b1682d7-9a82-4c5b-b9ea-ea81a99a2884",
   "metadata": {
    "tags": []
   },
   "outputs": [
    {
     "data": {
      "text/html": [
       "0.123028878867931"
      ],
      "text/latex": [
       "0.123028878867931"
      ],
      "text/markdown": [
       "0.123028878867931"
      ],
      "text/plain": [
       "[1] 0.1230289"
      ]
     },
     "metadata": {},
     "output_type": "display_data"
    },
    {
     "data": {
      "text/html": [
       "0.149314619011185"
      ],
      "text/latex": [
       "0.149314619011185"
      ],
      "text/markdown": [
       "0.149314619011185"
      ],
      "text/plain": [
       "[1] 0.1493146"
      ]
     },
     "metadata": {},
     "output_type": "display_data"
    }
   ],
   "source": [
    "#check within variance roungly the same , we will use proportional allocation\n",
    "(female_N/N)*female_FPC*var(female_sample$G3)/female_n\n",
    "(male_N/N)*male_FPC*var(male_sample$G3)/male_n\n"
   ]
  },
  {
   "cell_type": "markdown",
   "id": "58459711-00fe-4e99-85c9-4798cdf77da1",
   "metadata": {},
   "source": [
    "### Stratified sample :using optical allocation N_k/N"
   ]
  },
  {
   "cell_type": "code",
   "execution_count": 29,
   "id": "cd0c9308-ff16-4c9a-88fa-ecf822f48c68",
   "metadata": {
    "tags": []
   },
   "outputs": [
    {
     "data": {
      "text/html": [
       "53.3524245750281"
      ],
      "text/latex": [
       "53.3524245750281"
      ],
      "text/markdown": [
       "53.3524245750281"
      ],
      "text/plain": [
       "[1] 53.35242"
      ]
     },
     "metadata": {},
     "output_type": "display_data"
    },
    {
     "data": {
      "text/html": [
       "46.6475754249719"
      ],
      "text/latex": [
       "46.6475754249719"
      ],
      "text/markdown": [
       "46.6475754249719"
      ],
      "text/plain": [
       "[1] 46.64758"
      ]
     },
     "metadata": {},
     "output_type": "display_data"
    },
    {
     "data": {
      "text/html": [
       "53"
      ],
      "text/latex": [
       "53"
      ],
      "text/markdown": [
       "53"
      ],
      "text/plain": [
       "[1] 53"
      ]
     },
     "metadata": {},
     "output_type": "display_data"
    }
   ],
   "source": [
    "c = 100/(male_N * sd(male_data$G3) + female_N * sd(female_data$G3) )\n",
    "n_female_continous = c* female_N * sd(female_data$G3)\n",
    " n_male_continous = c* male_N * sd(male_data$G3)\n",
    "\n",
    "n_female_continous\n",
    "female_n\n",
    "\n",
    "#optimal allocation 和 proportional allocation 给的sample size差不多，所以我们还是用proportional alloction. "
   ]
  },
  {
   "cell_type": "markdown",
   "id": "28d545a5-55a7-46b9-ac3e-c27ccaf33cf5",
   "metadata": {},
   "source": [
    "  "
   ]
  },
  {
   "cell_type": "markdown",
   "id": "2ca2471b-03a9-463d-847a-67066e691b27",
   "metadata": {},
   "source": [
    "### Random select sample (SRS)"
   ]
  },
  {
   "cell_type": "markdown",
   "id": "b34d6c4a-eb3f-470d-81c9-7e9a56fc787c",
   "metadata": {
    "tags": []
   },
   "source": []
  },
  {
   "cell_type": "code",
   "execution_count": 9,
   "id": "1227fbe1-92f7-49a9-a9df-a208fe3c104e",
   "metadata": {
    "tags": []
   },
   "outputs": [],
   "source": [
    "set.seed(12345)\n",
    "SRS_sample <- sample_n(student_df,size=n,replace=F)\n",
    "\n",
    "SRS_mean_grade <-mean(SRS_sample$G3) # estimate mean of SRS\n",
    "se_SRS <- sqrt(var(SRS_sample$G3)/n) #standard error of SRS estimate\n",
    "\n",
    "SRS_CI<- c(SRS_mean_grade - 1.96* se_SRS,SRS_mean_grade + 1.96* se_SRS)"
   ]
  },
  {
   "cell_type": "code",
   "execution_count": 10,
   "id": "5a1e0246-ed8a-4ede-a45d-605c8facc200",
   "metadata": {
    "tags": []
   },
   "outputs": [
    {
     "data": {
      "text/html": [
       "<table class=\"dataframe\">\n",
       "<caption>A data.frame: 2 × 5</caption>\n",
       "<thead>\n",
       "\t<tr><th scope=col>sampling.method</th><th scope=col>average.G3.score</th><th scope=col>standard.error</th><th scope=col>CI.lower</th><th scope=col>CI.upper</th></tr>\n",
       "\t<tr><th scope=col>&lt;chr&gt;</th><th scope=col>&lt;dbl&gt;</th><th scope=col>&lt;dbl&gt;</th><th scope=col>&lt;dbl&gt;</th><th scope=col>&lt;dbl&gt;</th></tr>\n",
       "</thead>\n",
       "<tbody>\n",
       "\t<tr><td>SRS              </td><td> 9.97000</td><td>0.4600077</td><td> 9.068385</td><td>10.87162</td></tr>\n",
       "\t<tr><td>stratified method</td><td>11.09977</td><td>0.3680666</td><td>10.378356</td><td>11.82118</td></tr>\n",
       "</tbody>\n",
       "</table>\n"
      ],
      "text/latex": [
       "A data.frame: 2 × 5\n",
       "\\begin{tabular}{lllll}\n",
       " sampling.method & average.G3.score & standard.error & CI.lower & CI.upper\\\\\n",
       " <chr> & <dbl> & <dbl> & <dbl> & <dbl>\\\\\n",
       "\\hline\n",
       "\t SRS               &  9.97000 & 0.4600077 &  9.068385 & 10.87162\\\\\n",
       "\t stratified method & 11.09977 & 0.3680666 & 10.378356 & 11.82118\\\\\n",
       "\\end{tabular}\n"
      ],
      "text/markdown": [
       "\n",
       "A data.frame: 2 × 5\n",
       "\n",
       "| sampling.method &lt;chr&gt; | average.G3.score &lt;dbl&gt; | standard.error &lt;dbl&gt; | CI.lower &lt;dbl&gt; | CI.upper &lt;dbl&gt; |\n",
       "|---|---|---|---|---|\n",
       "| SRS               |  9.97000 | 0.4600077 |  9.068385 | 10.87162 |\n",
       "| stratified method | 11.09977 | 0.3680666 | 10.378356 | 11.82118 |\n",
       "\n"
      ],
      "text/plain": [
       "  sampling.method   average.G3.score standard.error CI.lower  CI.upper\n",
       "1 SRS                9.97000         0.4600077       9.068385 10.87162\n",
       "2 stratified method 11.09977         0.3680666      10.378356 11.82118"
      ]
     },
     "metadata": {},
     "output_type": "display_data"
    }
   ],
   "source": [
    "average_G3_score <- c(SRS_mean_grade,stratified_mean_grade)\n",
    "sampling_method <- c(\"SRS\",\"stratified method\")\n",
    "standard_error <- c(se_SRS,se_stratified)\n",
    "\n",
    "\n",
    "good_table <- data.frame(\"sampling method\"=sampling_method,\"average G3 score\"=average_G3_score,\"standard error\"=standard_error,\n",
    "                         \"CI lower\" = c(SRS_CI[1],stratified_CI[1]),\"CI upper\" = c(SRS_CI[2],stratified_CI[2]))\n",
    "good_table"
   ]
  },
  {
   "cell_type": "markdown",
   "id": "862fdccc-6437-461f-86f6-419617f29b09",
   "metadata": {},
   "source": [
    "\n",
    "### 4. The second parmeter is : proportion of student who get 90% score in G3 (18 out of 20)\n",
    "        !!!  second paramter is binary population"
   ]
  },
  {
   "cell_type": "code",
   "execution_count": 11,
   "id": "dcda89ae-2e1c-4387-b4c3-5ae06fb02656",
   "metadata": {
    "tags": []
   },
   "outputs": [
    {
     "data": {
      "text/html": [
       "0.10126582278481"
      ],
      "text/latex": [
       "0.10126582278481"
      ],
      "text/markdown": [
       "0.10126582278481"
      ],
      "text/plain": [
       "[1] 0.1012658"
      ]
     },
     "metadata": {},
     "output_type": "display_data"
    },
    {
     "data": {
      "text/html": [
       "<table class=\"dataframe\">\n",
       "<caption>A data.frame: 40 × 33</caption>\n",
       "<thead>\n",
       "\t<tr><th></th><th scope=col>school</th><th scope=col>sex</th><th scope=col>age</th><th scope=col>address</th><th scope=col>famsize</th><th scope=col>Pstatus</th><th scope=col>Medu</th><th scope=col>Fedu</th><th scope=col>Mjob</th><th scope=col>Fjob</th><th scope=col>⋯</th><th scope=col>famrel</th><th scope=col>freetime</th><th scope=col>goout</th><th scope=col>Dalc</th><th scope=col>Walc</th><th scope=col>health</th><th scope=col>absences</th><th scope=col>G1</th><th scope=col>G2</th><th scope=col>G3</th></tr>\n",
       "\t<tr><th></th><th scope=col>&lt;chr&gt;</th><th scope=col>&lt;chr&gt;</th><th scope=col>&lt;int&gt;</th><th scope=col>&lt;chr&gt;</th><th scope=col>&lt;chr&gt;</th><th scope=col>&lt;chr&gt;</th><th scope=col>&lt;int&gt;</th><th scope=col>&lt;int&gt;</th><th scope=col>&lt;chr&gt;</th><th scope=col>&lt;chr&gt;</th><th scope=col>⋯</th><th scope=col>&lt;int&gt;</th><th scope=col>&lt;int&gt;</th><th scope=col>&lt;int&gt;</th><th scope=col>&lt;int&gt;</th><th scope=col>&lt;int&gt;</th><th scope=col>&lt;int&gt;</th><th scope=col>&lt;int&gt;</th><th scope=col>&lt;int&gt;</th><th scope=col>&lt;int&gt;</th><th scope=col>&lt;int&gt;</th></tr>\n",
       "</thead>\n",
       "<tbody>\n",
       "\t<tr><th scope=row>9</th><td>GP</td><td>M</td><td>15</td><td>U</td><td>LE3</td><td>A</td><td>3</td><td>2</td><td>services</td><td>other   </td><td>⋯</td><td>4</td><td>2</td><td>2</td><td>1</td><td>1</td><td>1</td><td> 0</td><td>16</td><td>18</td><td>19</td></tr>\n",
       "\t<tr><th scope=row>15</th><td>GP</td><td>M</td><td>15</td><td>U</td><td>GT3</td><td>A</td><td>2</td><td>2</td><td>other   </td><td>other   </td><td>⋯</td><td>4</td><td>5</td><td>2</td><td>1</td><td>1</td><td>3</td><td> 0</td><td>14</td><td>16</td><td>16</td></tr>\n",
       "\t<tr><th scope=row>23</th><td>GP</td><td>M</td><td>16</td><td>U</td><td>LE3</td><td>T</td><td>4</td><td>2</td><td>teacher </td><td>other   </td><td>⋯</td><td>4</td><td>5</td><td>1</td><td>1</td><td>3</td><td>5</td><td> 2</td><td>15</td><td>15</td><td>16</td></tr>\n",
       "\t<tr><th scope=row>32</th><td>GP</td><td>M</td><td>15</td><td>U</td><td>GT3</td><td>T</td><td>4</td><td>4</td><td>services</td><td>services</td><td>⋯</td><td>4</td><td>3</td><td>1</td><td>1</td><td>1</td><td>5</td><td> 0</td><td>17</td><td>16</td><td>17</td></tr>\n",
       "\t<tr><th scope=row>33</th><td>GP</td><td>M</td><td>15</td><td>R</td><td>GT3</td><td>T</td><td>4</td><td>3</td><td>teacher </td><td>at_home </td><td>⋯</td><td>4</td><td>5</td><td>2</td><td>1</td><td>1</td><td>5</td><td> 0</td><td>17</td><td>16</td><td>16</td></tr>\n",
       "\t<tr><th scope=row>37</th><td>GP</td><td>M</td><td>15</td><td>U</td><td>LE3</td><td>T</td><td>4</td><td>3</td><td>teacher </td><td>services</td><td>⋯</td><td>5</td><td>4</td><td>3</td><td>1</td><td>1</td><td>4</td><td> 2</td><td>15</td><td>16</td><td>18</td></tr>\n",
       "\t<tr><th scope=row>43</th><td>GP</td><td>M</td><td>15</td><td>U</td><td>GT3</td><td>T</td><td>4</td><td>4</td><td>services</td><td>teacher </td><td>⋯</td><td>4</td><td>3</td><td>3</td><td>1</td><td>1</td><td>5</td><td> 2</td><td>19</td><td>18</td><td>18</td></tr>\n",
       "\t<tr><th scope=row>48</th><td>GP</td><td>M</td><td>16</td><td>U</td><td>GT3</td><td>T</td><td>4</td><td>3</td><td>health  </td><td>services</td><td>⋯</td><td>4</td><td>2</td><td>2</td><td>1</td><td>1</td><td>2</td><td> 4</td><td>19</td><td>19</td><td>20</td></tr>\n",
       "\t<tr><th scope=row>60</th><td>GP</td><td>F</td><td>16</td><td>U</td><td>GT3</td><td>T</td><td>4</td><td>2</td><td>services</td><td>other   </td><td>⋯</td><td>4</td><td>2</td><td>3</td><td>1</td><td>1</td><td>5</td><td> 2</td><td>15</td><td>16</td><td>16</td></tr>\n",
       "\t<tr><th scope=row>70</th><td>GP</td><td>F</td><td>15</td><td>R</td><td>LE3</td><td>T</td><td>3</td><td>1</td><td>other   </td><td>other   </td><td>⋯</td><td>4</td><td>4</td><td>2</td><td>2</td><td>3</td><td>3</td><td>12</td><td>16</td><td>16</td><td>16</td></tr>\n",
       "\t<tr><th scope=row>92</th><td>GP</td><td>F</td><td>15</td><td>U</td><td>GT3</td><td>T</td><td>4</td><td>3</td><td>services</td><td>other   </td><td>⋯</td><td>4</td><td>5</td><td>5</td><td>1</td><td>3</td><td>1</td><td> 4</td><td>16</td><td>17</td><td>18</td></tr>\n",
       "\t<tr><th scope=row>102</th><td>GP</td><td>M</td><td>16</td><td>U</td><td>GT3</td><td>T</td><td>4</td><td>4</td><td>services</td><td>teacher </td><td>⋯</td><td>4</td><td>4</td><td>3</td><td>1</td><td>1</td><td>4</td><td> 0</td><td>16</td><td>17</td><td>17</td></tr>\n",
       "\t<tr><th scope=row>105</th><td>GP</td><td>M</td><td>15</td><td>U</td><td>GT3</td><td>A</td><td>3</td><td>4</td><td>services</td><td>other   </td><td>⋯</td><td>5</td><td>4</td><td>4</td><td>1</td><td>1</td><td>1</td><td> 0</td><td>16</td><td>18</td><td>18</td></tr>\n",
       "\t<tr><th scope=row>108</th><td>GP</td><td>M</td><td>16</td><td>U</td><td>GT3</td><td>T</td><td>3</td><td>3</td><td>services</td><td>other   </td><td>⋯</td><td>5</td><td>3</td><td>3</td><td>1</td><td>1</td><td>5</td><td> 2</td><td>16</td><td>18</td><td>18</td></tr>\n",
       "\t<tr><th scope=row>110</th><td>GP</td><td>F</td><td>16</td><td>U</td><td>LE3</td><td>T</td><td>4</td><td>4</td><td>health  </td><td>health  </td><td>⋯</td><td>5</td><td>4</td><td>5</td><td>1</td><td>1</td><td>4</td><td> 4</td><td>14</td><td>15</td><td>16</td></tr>\n",
       "\t<tr><th scope=row>111</th><td>GP</td><td>M</td><td>15</td><td>U</td><td>LE3</td><td>A</td><td>4</td><td>4</td><td>teacher </td><td>teacher </td><td>⋯</td><td>5</td><td>5</td><td>3</td><td>1</td><td>1</td><td>4</td><td> 6</td><td>18</td><td>19</td><td>19</td></tr>\n",
       "\t<tr><th scope=row>114</th><td>GP</td><td>M</td><td>15</td><td>U</td><td>LE3</td><td>T</td><td>4</td><td>2</td><td>teacher </td><td>other   </td><td>⋯</td><td>3</td><td>5</td><td>2</td><td>1</td><td>1</td><td>3</td><td>10</td><td>18</td><td>19</td><td>19</td></tr>\n",
       "\t<tr><th scope=row>116</th><td>GP</td><td>M</td><td>16</td><td>U</td><td>GT3</td><td>T</td><td>4</td><td>4</td><td>teacher </td><td>teacher </td><td>⋯</td><td>5</td><td>4</td><td>4</td><td>1</td><td>2</td><td>5</td><td> 2</td><td>15</td><td>15</td><td>16</td></tr>\n",
       "\t<tr><th scope=row>130</th><td>GP</td><td>M</td><td>16</td><td>R</td><td>GT3</td><td>T</td><td>4</td><td>4</td><td>teacher </td><td>teacher </td><td>⋯</td><td>3</td><td>5</td><td>5</td><td>2</td><td>5</td><td>4</td><td> 8</td><td>18</td><td>18</td><td>18</td></tr>\n",
       "\t<tr><th scope=row>168</th><td>GP</td><td>F</td><td>16</td><td>U</td><td>GT3</td><td>T</td><td>4</td><td>2</td><td>health  </td><td>services</td><td>⋯</td><td>4</td><td>2</td><td>3</td><td>1</td><td>1</td><td>3</td><td> 0</td><td>14</td><td>15</td><td>16</td></tr>\n",
       "\t<tr><th scope=row>172</th><td>GP</td><td>M</td><td>16</td><td>U</td><td>GT3</td><td>T</td><td>1</td><td>0</td><td>other   </td><td>other   </td><td>⋯</td><td>4</td><td>3</td><td>2</td><td>1</td><td>1</td><td>3</td><td> 2</td><td>13</td><td>15</td><td>16</td></tr>\n",
       "\t<tr><th scope=row>183</th><td>GP</td><td>F</td><td>17</td><td>U</td><td>GT3</td><td>T</td><td>2</td><td>4</td><td>services</td><td>services</td><td>⋯</td><td>5</td><td>4</td><td>2</td><td>2</td><td>3</td><td>5</td><td> 0</td><td>16</td><td>17</td><td>17</td></tr>\n",
       "\t<tr><th scope=row>197</th><td>GP</td><td>M</td><td>17</td><td>U</td><td>GT3</td><td>T</td><td>4</td><td>4</td><td>services</td><td>teacher </td><td>⋯</td><td>5</td><td>2</td><td>3</td><td>1</td><td>2</td><td>5</td><td> 4</td><td>17</td><td>15</td><td>16</td></tr>\n",
       "\t<tr><th scope=row>199</th><td>GP</td><td>F</td><td>17</td><td>U</td><td>GT3</td><td>T</td><td>4</td><td>4</td><td>services</td><td>teacher </td><td>⋯</td><td>4</td><td>2</td><td>4</td><td>2</td><td>3</td><td>2</td><td>24</td><td>18</td><td>18</td><td>18</td></tr>\n",
       "\t<tr><th scope=row>201</th><td>GP</td><td>F</td><td>16</td><td>U</td><td>GT3</td><td>T</td><td>4</td><td>3</td><td>health  </td><td>other   </td><td>⋯</td><td>4</td><td>3</td><td>5</td><td>1</td><td>5</td><td>2</td><td> 2</td><td>16</td><td>16</td><td>16</td></tr>\n",
       "\t<tr><th scope=row>223</th><td>GP</td><td>F</td><td>16</td><td>U</td><td>GT3</td><td>T</td><td>2</td><td>3</td><td>services</td><td>teacher </td><td>⋯</td><td>2</td><td>3</td><td>1</td><td>1</td><td>1</td><td>3</td><td> 2</td><td>16</td><td>16</td><td>17</td></tr>\n",
       "\t<tr><th scope=row>246</th><td>GP</td><td>M</td><td>16</td><td>U</td><td>GT3</td><td>T</td><td>2</td><td>1</td><td>other   </td><td>other   </td><td>⋯</td><td>4</td><td>3</td><td>3</td><td>1</td><td>1</td><td>4</td><td> 6</td><td>18</td><td>18</td><td>18</td></tr>\n",
       "\t<tr><th scope=row>261</th><td>GP</td><td>F</td><td>18</td><td>U</td><td>GT3</td><td>T</td><td>4</td><td>3</td><td>services</td><td>other   </td><td>⋯</td><td>3</td><td>1</td><td>2</td><td>1</td><td>3</td><td>2</td><td>21</td><td>17</td><td>18</td><td>18</td></tr>\n",
       "\t<tr><th scope=row>266</th><td>GP</td><td>M</td><td>18</td><td>R</td><td>LE3</td><td>A</td><td>3</td><td>4</td><td>other   </td><td>other   </td><td>⋯</td><td>4</td><td>2</td><td>5</td><td>3</td><td>4</td><td>1</td><td>13</td><td>17</td><td>17</td><td>17</td></tr>\n",
       "\t<tr><th scope=row>287</th><td>GP</td><td>F</td><td>18</td><td>U</td><td>GT3</td><td>T</td><td>2</td><td>2</td><td>at_home </td><td>at_home </td><td>⋯</td><td>4</td><td>3</td><td>3</td><td>1</td><td>2</td><td>2</td><td> 5</td><td>18</td><td>18</td><td>19</td></tr>\n",
       "\t<tr><th scope=row>294</th><td>GP</td><td>F</td><td>17</td><td>R</td><td>LE3</td><td>T</td><td>3</td><td>1</td><td>services</td><td>other   </td><td>⋯</td><td>3</td><td>1</td><td>2</td><td>1</td><td>1</td><td>3</td><td> 6</td><td>18</td><td>18</td><td>18</td></tr>\n",
       "\t<tr><th scope=row>300</th><td>GP</td><td>M</td><td>18</td><td>U</td><td>LE3</td><td>T</td><td>4</td><td>4</td><td>teacher </td><td>teacher </td><td>⋯</td><td>1</td><td>4</td><td>2</td><td>2</td><td>2</td><td>1</td><td> 5</td><td>16</td><td>15</td><td>16</td></tr>\n",
       "\t<tr><th scope=row>304</th><td>GP</td><td>F</td><td>17</td><td>U</td><td>GT3</td><td>T</td><td>3</td><td>2</td><td>health  </td><td>health  </td><td>⋯</td><td>5</td><td>2</td><td>2</td><td>1</td><td>2</td><td>5</td><td> 0</td><td>17</td><td>17</td><td>18</td></tr>\n",
       "\t<tr><th scope=row>307</th><td>GP</td><td>M</td><td>20</td><td>U</td><td>GT3</td><td>A</td><td>3</td><td>2</td><td>services</td><td>other   </td><td>⋯</td><td>5</td><td>5</td><td>3</td><td>1</td><td>1</td><td>5</td><td> 0</td><td>17</td><td>18</td><td>18</td></tr>\n",
       "\t<tr><th scope=row>327</th><td>GP</td><td>M</td><td>17</td><td>U</td><td>GT3</td><td>T</td><td>3</td><td>3</td><td>other   </td><td>services</td><td>⋯</td><td>4</td><td>3</td><td>5</td><td>3</td><td>5</td><td>5</td><td> 3</td><td>14</td><td>15</td><td>16</td></tr>\n",
       "\t<tr><th scope=row>339</th><td>GP</td><td>F</td><td>18</td><td>U</td><td>LE3</td><td>T</td><td>3</td><td>3</td><td>services</td><td>services</td><td>⋯</td><td>5</td><td>3</td><td>3</td><td>1</td><td>1</td><td>1</td><td> 7</td><td>16</td><td>15</td><td>17</td></tr>\n",
       "\t<tr><th scope=row>347</th><td>GP</td><td>M</td><td>18</td><td>R</td><td>GT3</td><td>T</td><td>4</td><td>3</td><td>teacher </td><td>services</td><td>⋯</td><td>5</td><td>3</td><td>2</td><td>1</td><td>2</td><td>4</td><td> 9</td><td>16</td><td>15</td><td>16</td></tr>\n",
       "\t<tr><th scope=row>360</th><td>MS</td><td>F</td><td>18</td><td>U</td><td>LE3</td><td>T</td><td>1</td><td>1</td><td>at_home </td><td>services</td><td>⋯</td><td>5</td><td>3</td><td>2</td><td>1</td><td>1</td><td>4</td><td> 0</td><td>18</td><td>16</td><td>16</td></tr>\n",
       "\t<tr><th scope=row>375</th><td>MS</td><td>F</td><td>18</td><td>R</td><td>LE3</td><td>T</td><td>4</td><td>4</td><td>other   </td><td>other   </td><td>⋯</td><td>5</td><td>4</td><td>4</td><td>1</td><td>1</td><td>1</td><td> 0</td><td>19</td><td>18</td><td>19</td></tr>\n",
       "\t<tr><th scope=row>392</th><td>MS</td><td>M</td><td>17</td><td>U</td><td>LE3</td><td>T</td><td>3</td><td>1</td><td>services</td><td>services</td><td>⋯</td><td>2</td><td>4</td><td>5</td><td>3</td><td>4</td><td>2</td><td> 3</td><td>14</td><td>16</td><td>16</td></tr>\n",
       "</tbody>\n",
       "</table>\n"
      ],
      "text/latex": [
       "A data.frame: 40 × 33\n",
       "\\begin{tabular}{r|lllllllllllllllllllll}\n",
       "  & school & sex & age & address & famsize & Pstatus & Medu & Fedu & Mjob & Fjob & ⋯ & famrel & freetime & goout & Dalc & Walc & health & absences & G1 & G2 & G3\\\\\n",
       "  & <chr> & <chr> & <int> & <chr> & <chr> & <chr> & <int> & <int> & <chr> & <chr> & ⋯ & <int> & <int> & <int> & <int> & <int> & <int> & <int> & <int> & <int> & <int>\\\\\n",
       "\\hline\n",
       "\t9 & GP & M & 15 & U & LE3 & A & 3 & 2 & services & other    & ⋯ & 4 & 2 & 2 & 1 & 1 & 1 &  0 & 16 & 18 & 19\\\\\n",
       "\t15 & GP & M & 15 & U & GT3 & A & 2 & 2 & other    & other    & ⋯ & 4 & 5 & 2 & 1 & 1 & 3 &  0 & 14 & 16 & 16\\\\\n",
       "\t23 & GP & M & 16 & U & LE3 & T & 4 & 2 & teacher  & other    & ⋯ & 4 & 5 & 1 & 1 & 3 & 5 &  2 & 15 & 15 & 16\\\\\n",
       "\t32 & GP & M & 15 & U & GT3 & T & 4 & 4 & services & services & ⋯ & 4 & 3 & 1 & 1 & 1 & 5 &  0 & 17 & 16 & 17\\\\\n",
       "\t33 & GP & M & 15 & R & GT3 & T & 4 & 3 & teacher  & at\\_home  & ⋯ & 4 & 5 & 2 & 1 & 1 & 5 &  0 & 17 & 16 & 16\\\\\n",
       "\t37 & GP & M & 15 & U & LE3 & T & 4 & 3 & teacher  & services & ⋯ & 5 & 4 & 3 & 1 & 1 & 4 &  2 & 15 & 16 & 18\\\\\n",
       "\t43 & GP & M & 15 & U & GT3 & T & 4 & 4 & services & teacher  & ⋯ & 4 & 3 & 3 & 1 & 1 & 5 &  2 & 19 & 18 & 18\\\\\n",
       "\t48 & GP & M & 16 & U & GT3 & T & 4 & 3 & health   & services & ⋯ & 4 & 2 & 2 & 1 & 1 & 2 &  4 & 19 & 19 & 20\\\\\n",
       "\t60 & GP & F & 16 & U & GT3 & T & 4 & 2 & services & other    & ⋯ & 4 & 2 & 3 & 1 & 1 & 5 &  2 & 15 & 16 & 16\\\\\n",
       "\t70 & GP & F & 15 & R & LE3 & T & 3 & 1 & other    & other    & ⋯ & 4 & 4 & 2 & 2 & 3 & 3 & 12 & 16 & 16 & 16\\\\\n",
       "\t92 & GP & F & 15 & U & GT3 & T & 4 & 3 & services & other    & ⋯ & 4 & 5 & 5 & 1 & 3 & 1 &  4 & 16 & 17 & 18\\\\\n",
       "\t102 & GP & M & 16 & U & GT3 & T & 4 & 4 & services & teacher  & ⋯ & 4 & 4 & 3 & 1 & 1 & 4 &  0 & 16 & 17 & 17\\\\\n",
       "\t105 & GP & M & 15 & U & GT3 & A & 3 & 4 & services & other    & ⋯ & 5 & 4 & 4 & 1 & 1 & 1 &  0 & 16 & 18 & 18\\\\\n",
       "\t108 & GP & M & 16 & U & GT3 & T & 3 & 3 & services & other    & ⋯ & 5 & 3 & 3 & 1 & 1 & 5 &  2 & 16 & 18 & 18\\\\\n",
       "\t110 & GP & F & 16 & U & LE3 & T & 4 & 4 & health   & health   & ⋯ & 5 & 4 & 5 & 1 & 1 & 4 &  4 & 14 & 15 & 16\\\\\n",
       "\t111 & GP & M & 15 & U & LE3 & A & 4 & 4 & teacher  & teacher  & ⋯ & 5 & 5 & 3 & 1 & 1 & 4 &  6 & 18 & 19 & 19\\\\\n",
       "\t114 & GP & M & 15 & U & LE3 & T & 4 & 2 & teacher  & other    & ⋯ & 3 & 5 & 2 & 1 & 1 & 3 & 10 & 18 & 19 & 19\\\\\n",
       "\t116 & GP & M & 16 & U & GT3 & T & 4 & 4 & teacher  & teacher  & ⋯ & 5 & 4 & 4 & 1 & 2 & 5 &  2 & 15 & 15 & 16\\\\\n",
       "\t130 & GP & M & 16 & R & GT3 & T & 4 & 4 & teacher  & teacher  & ⋯ & 3 & 5 & 5 & 2 & 5 & 4 &  8 & 18 & 18 & 18\\\\\n",
       "\t168 & GP & F & 16 & U & GT3 & T & 4 & 2 & health   & services & ⋯ & 4 & 2 & 3 & 1 & 1 & 3 &  0 & 14 & 15 & 16\\\\\n",
       "\t172 & GP & M & 16 & U & GT3 & T & 1 & 0 & other    & other    & ⋯ & 4 & 3 & 2 & 1 & 1 & 3 &  2 & 13 & 15 & 16\\\\\n",
       "\t183 & GP & F & 17 & U & GT3 & T & 2 & 4 & services & services & ⋯ & 5 & 4 & 2 & 2 & 3 & 5 &  0 & 16 & 17 & 17\\\\\n",
       "\t197 & GP & M & 17 & U & GT3 & T & 4 & 4 & services & teacher  & ⋯ & 5 & 2 & 3 & 1 & 2 & 5 &  4 & 17 & 15 & 16\\\\\n",
       "\t199 & GP & F & 17 & U & GT3 & T & 4 & 4 & services & teacher  & ⋯ & 4 & 2 & 4 & 2 & 3 & 2 & 24 & 18 & 18 & 18\\\\\n",
       "\t201 & GP & F & 16 & U & GT3 & T & 4 & 3 & health   & other    & ⋯ & 4 & 3 & 5 & 1 & 5 & 2 &  2 & 16 & 16 & 16\\\\\n",
       "\t223 & GP & F & 16 & U & GT3 & T & 2 & 3 & services & teacher  & ⋯ & 2 & 3 & 1 & 1 & 1 & 3 &  2 & 16 & 16 & 17\\\\\n",
       "\t246 & GP & M & 16 & U & GT3 & T & 2 & 1 & other    & other    & ⋯ & 4 & 3 & 3 & 1 & 1 & 4 &  6 & 18 & 18 & 18\\\\\n",
       "\t261 & GP & F & 18 & U & GT3 & T & 4 & 3 & services & other    & ⋯ & 3 & 1 & 2 & 1 & 3 & 2 & 21 & 17 & 18 & 18\\\\\n",
       "\t266 & GP & M & 18 & R & LE3 & A & 3 & 4 & other    & other    & ⋯ & 4 & 2 & 5 & 3 & 4 & 1 & 13 & 17 & 17 & 17\\\\\n",
       "\t287 & GP & F & 18 & U & GT3 & T & 2 & 2 & at\\_home  & at\\_home  & ⋯ & 4 & 3 & 3 & 1 & 2 & 2 &  5 & 18 & 18 & 19\\\\\n",
       "\t294 & GP & F & 17 & R & LE3 & T & 3 & 1 & services & other    & ⋯ & 3 & 1 & 2 & 1 & 1 & 3 &  6 & 18 & 18 & 18\\\\\n",
       "\t300 & GP & M & 18 & U & LE3 & T & 4 & 4 & teacher  & teacher  & ⋯ & 1 & 4 & 2 & 2 & 2 & 1 &  5 & 16 & 15 & 16\\\\\n",
       "\t304 & GP & F & 17 & U & GT3 & T & 3 & 2 & health   & health   & ⋯ & 5 & 2 & 2 & 1 & 2 & 5 &  0 & 17 & 17 & 18\\\\\n",
       "\t307 & GP & M & 20 & U & GT3 & A & 3 & 2 & services & other    & ⋯ & 5 & 5 & 3 & 1 & 1 & 5 &  0 & 17 & 18 & 18\\\\\n",
       "\t327 & GP & M & 17 & U & GT3 & T & 3 & 3 & other    & services & ⋯ & 4 & 3 & 5 & 3 & 5 & 5 &  3 & 14 & 15 & 16\\\\\n",
       "\t339 & GP & F & 18 & U & LE3 & T & 3 & 3 & services & services & ⋯ & 5 & 3 & 3 & 1 & 1 & 1 &  7 & 16 & 15 & 17\\\\\n",
       "\t347 & GP & M & 18 & R & GT3 & T & 4 & 3 & teacher  & services & ⋯ & 5 & 3 & 2 & 1 & 2 & 4 &  9 & 16 & 15 & 16\\\\\n",
       "\t360 & MS & F & 18 & U & LE3 & T & 1 & 1 & at\\_home  & services & ⋯ & 5 & 3 & 2 & 1 & 1 & 4 &  0 & 18 & 16 & 16\\\\\n",
       "\t375 & MS & F & 18 & R & LE3 & T & 4 & 4 & other    & other    & ⋯ & 5 & 4 & 4 & 1 & 1 & 1 &  0 & 19 & 18 & 19\\\\\n",
       "\t392 & MS & M & 17 & U & LE3 & T & 3 & 1 & services & services & ⋯ & 2 & 4 & 5 & 3 & 4 & 2 &  3 & 14 & 16 & 16\\\\\n",
       "\\end{tabular}\n"
      ],
      "text/markdown": [
       "\n",
       "A data.frame: 40 × 33\n",
       "\n",
       "| <!--/--> | school &lt;chr&gt; | sex &lt;chr&gt; | age &lt;int&gt; | address &lt;chr&gt; | famsize &lt;chr&gt; | Pstatus &lt;chr&gt; | Medu &lt;int&gt; | Fedu &lt;int&gt; | Mjob &lt;chr&gt; | Fjob &lt;chr&gt; | ⋯ ⋯ | famrel &lt;int&gt; | freetime &lt;int&gt; | goout &lt;int&gt; | Dalc &lt;int&gt; | Walc &lt;int&gt; | health &lt;int&gt; | absences &lt;int&gt; | G1 &lt;int&gt; | G2 &lt;int&gt; | G3 &lt;int&gt; |\n",
       "|---|---|---|---|---|---|---|---|---|---|---|---|---|---|---|---|---|---|---|---|---|---|\n",
       "| 9 | GP | M | 15 | U | LE3 | A | 3 | 2 | services | other    | ⋯ | 4 | 2 | 2 | 1 | 1 | 1 |  0 | 16 | 18 | 19 |\n",
       "| 15 | GP | M | 15 | U | GT3 | A | 2 | 2 | other    | other    | ⋯ | 4 | 5 | 2 | 1 | 1 | 3 |  0 | 14 | 16 | 16 |\n",
       "| 23 | GP | M | 16 | U | LE3 | T | 4 | 2 | teacher  | other    | ⋯ | 4 | 5 | 1 | 1 | 3 | 5 |  2 | 15 | 15 | 16 |\n",
       "| 32 | GP | M | 15 | U | GT3 | T | 4 | 4 | services | services | ⋯ | 4 | 3 | 1 | 1 | 1 | 5 |  0 | 17 | 16 | 17 |\n",
       "| 33 | GP | M | 15 | R | GT3 | T | 4 | 3 | teacher  | at_home  | ⋯ | 4 | 5 | 2 | 1 | 1 | 5 |  0 | 17 | 16 | 16 |\n",
       "| 37 | GP | M | 15 | U | LE3 | T | 4 | 3 | teacher  | services | ⋯ | 5 | 4 | 3 | 1 | 1 | 4 |  2 | 15 | 16 | 18 |\n",
       "| 43 | GP | M | 15 | U | GT3 | T | 4 | 4 | services | teacher  | ⋯ | 4 | 3 | 3 | 1 | 1 | 5 |  2 | 19 | 18 | 18 |\n",
       "| 48 | GP | M | 16 | U | GT3 | T | 4 | 3 | health   | services | ⋯ | 4 | 2 | 2 | 1 | 1 | 2 |  4 | 19 | 19 | 20 |\n",
       "| 60 | GP | F | 16 | U | GT3 | T | 4 | 2 | services | other    | ⋯ | 4 | 2 | 3 | 1 | 1 | 5 |  2 | 15 | 16 | 16 |\n",
       "| 70 | GP | F | 15 | R | LE3 | T | 3 | 1 | other    | other    | ⋯ | 4 | 4 | 2 | 2 | 3 | 3 | 12 | 16 | 16 | 16 |\n",
       "| 92 | GP | F | 15 | U | GT3 | T | 4 | 3 | services | other    | ⋯ | 4 | 5 | 5 | 1 | 3 | 1 |  4 | 16 | 17 | 18 |\n",
       "| 102 | GP | M | 16 | U | GT3 | T | 4 | 4 | services | teacher  | ⋯ | 4 | 4 | 3 | 1 | 1 | 4 |  0 | 16 | 17 | 17 |\n",
       "| 105 | GP | M | 15 | U | GT3 | A | 3 | 4 | services | other    | ⋯ | 5 | 4 | 4 | 1 | 1 | 1 |  0 | 16 | 18 | 18 |\n",
       "| 108 | GP | M | 16 | U | GT3 | T | 3 | 3 | services | other    | ⋯ | 5 | 3 | 3 | 1 | 1 | 5 |  2 | 16 | 18 | 18 |\n",
       "| 110 | GP | F | 16 | U | LE3 | T | 4 | 4 | health   | health   | ⋯ | 5 | 4 | 5 | 1 | 1 | 4 |  4 | 14 | 15 | 16 |\n",
       "| 111 | GP | M | 15 | U | LE3 | A | 4 | 4 | teacher  | teacher  | ⋯ | 5 | 5 | 3 | 1 | 1 | 4 |  6 | 18 | 19 | 19 |\n",
       "| 114 | GP | M | 15 | U | LE3 | T | 4 | 2 | teacher  | other    | ⋯ | 3 | 5 | 2 | 1 | 1 | 3 | 10 | 18 | 19 | 19 |\n",
       "| 116 | GP | M | 16 | U | GT3 | T | 4 | 4 | teacher  | teacher  | ⋯ | 5 | 4 | 4 | 1 | 2 | 5 |  2 | 15 | 15 | 16 |\n",
       "| 130 | GP | M | 16 | R | GT3 | T | 4 | 4 | teacher  | teacher  | ⋯ | 3 | 5 | 5 | 2 | 5 | 4 |  8 | 18 | 18 | 18 |\n",
       "| 168 | GP | F | 16 | U | GT3 | T | 4 | 2 | health   | services | ⋯ | 4 | 2 | 3 | 1 | 1 | 3 |  0 | 14 | 15 | 16 |\n",
       "| 172 | GP | M | 16 | U | GT3 | T | 1 | 0 | other    | other    | ⋯ | 4 | 3 | 2 | 1 | 1 | 3 |  2 | 13 | 15 | 16 |\n",
       "| 183 | GP | F | 17 | U | GT3 | T | 2 | 4 | services | services | ⋯ | 5 | 4 | 2 | 2 | 3 | 5 |  0 | 16 | 17 | 17 |\n",
       "| 197 | GP | M | 17 | U | GT3 | T | 4 | 4 | services | teacher  | ⋯ | 5 | 2 | 3 | 1 | 2 | 5 |  4 | 17 | 15 | 16 |\n",
       "| 199 | GP | F | 17 | U | GT3 | T | 4 | 4 | services | teacher  | ⋯ | 4 | 2 | 4 | 2 | 3 | 2 | 24 | 18 | 18 | 18 |\n",
       "| 201 | GP | F | 16 | U | GT3 | T | 4 | 3 | health   | other    | ⋯ | 4 | 3 | 5 | 1 | 5 | 2 |  2 | 16 | 16 | 16 |\n",
       "| 223 | GP | F | 16 | U | GT3 | T | 2 | 3 | services | teacher  | ⋯ | 2 | 3 | 1 | 1 | 1 | 3 |  2 | 16 | 16 | 17 |\n",
       "| 246 | GP | M | 16 | U | GT3 | T | 2 | 1 | other    | other    | ⋯ | 4 | 3 | 3 | 1 | 1 | 4 |  6 | 18 | 18 | 18 |\n",
       "| 261 | GP | F | 18 | U | GT3 | T | 4 | 3 | services | other    | ⋯ | 3 | 1 | 2 | 1 | 3 | 2 | 21 | 17 | 18 | 18 |\n",
       "| 266 | GP | M | 18 | R | LE3 | A | 3 | 4 | other    | other    | ⋯ | 4 | 2 | 5 | 3 | 4 | 1 | 13 | 17 | 17 | 17 |\n",
       "| 287 | GP | F | 18 | U | GT3 | T | 2 | 2 | at_home  | at_home  | ⋯ | 4 | 3 | 3 | 1 | 2 | 2 |  5 | 18 | 18 | 19 |\n",
       "| 294 | GP | F | 17 | R | LE3 | T | 3 | 1 | services | other    | ⋯ | 3 | 1 | 2 | 1 | 1 | 3 |  6 | 18 | 18 | 18 |\n",
       "| 300 | GP | M | 18 | U | LE3 | T | 4 | 4 | teacher  | teacher  | ⋯ | 1 | 4 | 2 | 2 | 2 | 1 |  5 | 16 | 15 | 16 |\n",
       "| 304 | GP | F | 17 | U | GT3 | T | 3 | 2 | health   | health   | ⋯ | 5 | 2 | 2 | 1 | 2 | 5 |  0 | 17 | 17 | 18 |\n",
       "| 307 | GP | M | 20 | U | GT3 | A | 3 | 2 | services | other    | ⋯ | 5 | 5 | 3 | 1 | 1 | 5 |  0 | 17 | 18 | 18 |\n",
       "| 327 | GP | M | 17 | U | GT3 | T | 3 | 3 | other    | services | ⋯ | 4 | 3 | 5 | 3 | 5 | 5 |  3 | 14 | 15 | 16 |\n",
       "| 339 | GP | F | 18 | U | LE3 | T | 3 | 3 | services | services | ⋯ | 5 | 3 | 3 | 1 | 1 | 1 |  7 | 16 | 15 | 17 |\n",
       "| 347 | GP | M | 18 | R | GT3 | T | 4 | 3 | teacher  | services | ⋯ | 5 | 3 | 2 | 1 | 2 | 4 |  9 | 16 | 15 | 16 |\n",
       "| 360 | MS | F | 18 | U | LE3 | T | 1 | 1 | at_home  | services | ⋯ | 5 | 3 | 2 | 1 | 1 | 4 |  0 | 18 | 16 | 16 |\n",
       "| 375 | MS | F | 18 | R | LE3 | T | 4 | 4 | other    | other    | ⋯ | 5 | 4 | 4 | 1 | 1 | 1 |  0 | 19 | 18 | 19 |\n",
       "| 392 | MS | M | 17 | U | LE3 | T | 3 | 1 | services | services | ⋯ | 2 | 4 | 5 | 3 | 4 | 2 |  3 | 14 | 16 | 16 |\n",
       "\n"
      ],
      "text/plain": [
       "    school sex age address famsize Pstatus Medu Fedu Mjob     Fjob     ⋯ famrel\n",
       "9   GP     M   15  U       LE3     A       3    2    services other    ⋯ 4     \n",
       "15  GP     M   15  U       GT3     A       2    2    other    other    ⋯ 4     \n",
       "23  GP     M   16  U       LE3     T       4    2    teacher  other    ⋯ 4     \n",
       "32  GP     M   15  U       GT3     T       4    4    services services ⋯ 4     \n",
       "33  GP     M   15  R       GT3     T       4    3    teacher  at_home  ⋯ 4     \n",
       "37  GP     M   15  U       LE3     T       4    3    teacher  services ⋯ 5     \n",
       "43  GP     M   15  U       GT3     T       4    4    services teacher  ⋯ 4     \n",
       "48  GP     M   16  U       GT3     T       4    3    health   services ⋯ 4     \n",
       "60  GP     F   16  U       GT3     T       4    2    services other    ⋯ 4     \n",
       "70  GP     F   15  R       LE3     T       3    1    other    other    ⋯ 4     \n",
       "92  GP     F   15  U       GT3     T       4    3    services other    ⋯ 4     \n",
       "102 GP     M   16  U       GT3     T       4    4    services teacher  ⋯ 4     \n",
       "105 GP     M   15  U       GT3     A       3    4    services other    ⋯ 5     \n",
       "108 GP     M   16  U       GT3     T       3    3    services other    ⋯ 5     \n",
       "110 GP     F   16  U       LE3     T       4    4    health   health   ⋯ 5     \n",
       "111 GP     M   15  U       LE3     A       4    4    teacher  teacher  ⋯ 5     \n",
       "114 GP     M   15  U       LE3     T       4    2    teacher  other    ⋯ 3     \n",
       "116 GP     M   16  U       GT3     T       4    4    teacher  teacher  ⋯ 5     \n",
       "130 GP     M   16  R       GT3     T       4    4    teacher  teacher  ⋯ 3     \n",
       "168 GP     F   16  U       GT3     T       4    2    health   services ⋯ 4     \n",
       "172 GP     M   16  U       GT3     T       1    0    other    other    ⋯ 4     \n",
       "183 GP     F   17  U       GT3     T       2    4    services services ⋯ 5     \n",
       "197 GP     M   17  U       GT3     T       4    4    services teacher  ⋯ 5     \n",
       "199 GP     F   17  U       GT3     T       4    4    services teacher  ⋯ 4     \n",
       "201 GP     F   16  U       GT3     T       4    3    health   other    ⋯ 4     \n",
       "223 GP     F   16  U       GT3     T       2    3    services teacher  ⋯ 2     \n",
       "246 GP     M   16  U       GT3     T       2    1    other    other    ⋯ 4     \n",
       "261 GP     F   18  U       GT3     T       4    3    services other    ⋯ 3     \n",
       "266 GP     M   18  R       LE3     A       3    4    other    other    ⋯ 4     \n",
       "287 GP     F   18  U       GT3     T       2    2    at_home  at_home  ⋯ 4     \n",
       "294 GP     F   17  R       LE3     T       3    1    services other    ⋯ 3     \n",
       "300 GP     M   18  U       LE3     T       4    4    teacher  teacher  ⋯ 1     \n",
       "304 GP     F   17  U       GT3     T       3    2    health   health   ⋯ 5     \n",
       "307 GP     M   20  U       GT3     A       3    2    services other    ⋯ 5     \n",
       "327 GP     M   17  U       GT3     T       3    3    other    services ⋯ 4     \n",
       "339 GP     F   18  U       LE3     T       3    3    services services ⋯ 5     \n",
       "347 GP     M   18  R       GT3     T       4    3    teacher  services ⋯ 5     \n",
       "360 MS     F   18  U       LE3     T       1    1    at_home  services ⋯ 5     \n",
       "375 MS     F   18  R       LE3     T       4    4    other    other    ⋯ 5     \n",
       "392 MS     M   17  U       LE3     T       3    1    services services ⋯ 2     \n",
       "    freetime goout Dalc Walc health absences G1 G2 G3\n",
       "9   2        2     1    1    1       0       16 18 19\n",
       "15  5        2     1    1    3       0       14 16 16\n",
       "23  5        1     1    3    5       2       15 15 16\n",
       "32  3        1     1    1    5       0       17 16 17\n",
       "33  5        2     1    1    5       0       17 16 16\n",
       "37  4        3     1    1    4       2       15 16 18\n",
       "43  3        3     1    1    5       2       19 18 18\n",
       "48  2        2     1    1    2       4       19 19 20\n",
       "60  2        3     1    1    5       2       15 16 16\n",
       "70  4        2     2    3    3      12       16 16 16\n",
       "92  5        5     1    3    1       4       16 17 18\n",
       "102 4        3     1    1    4       0       16 17 17\n",
       "105 4        4     1    1    1       0       16 18 18\n",
       "108 3        3     1    1    5       2       16 18 18\n",
       "110 4        5     1    1    4       4       14 15 16\n",
       "111 5        3     1    1    4       6       18 19 19\n",
       "114 5        2     1    1    3      10       18 19 19\n",
       "116 4        4     1    2    5       2       15 15 16\n",
       "130 5        5     2    5    4       8       18 18 18\n",
       "168 2        3     1    1    3       0       14 15 16\n",
       "172 3        2     1    1    3       2       13 15 16\n",
       "183 4        2     2    3    5       0       16 17 17\n",
       "197 2        3     1    2    5       4       17 15 16\n",
       "199 2        4     2    3    2      24       18 18 18\n",
       "201 3        5     1    5    2       2       16 16 16\n",
       "223 3        1     1    1    3       2       16 16 17\n",
       "246 3        3     1    1    4       6       18 18 18\n",
       "261 1        2     1    3    2      21       17 18 18\n",
       "266 2        5     3    4    1      13       17 17 17\n",
       "287 3        3     1    2    2       5       18 18 19\n",
       "294 1        2     1    1    3       6       18 18 18\n",
       "300 4        2     2    2    1       5       16 15 16\n",
       "304 2        2     1    2    5       0       17 17 18\n",
       "307 5        3     1    1    5       0       17 18 18\n",
       "327 3        5     3    5    5       3       14 15 16\n",
       "339 3        3     1    1    1       7       16 15 17\n",
       "347 3        2     1    2    4       9       16 15 16\n",
       "360 3        2     1    1    4       0       18 16 16\n",
       "375 4        4     1    1    1       0       19 18 19\n",
       "392 4        5     3    4    2       3       14 16 16"
      ]
     },
     "metadata": {},
     "output_type": "display_data"
    }
   ],
   "source": [
    "A_score_df <- subset(student_df,(G3<=20)&(G3>=16))\n",
    "\n",
    "nrow(A_score_df)/N  # true proportion\n",
    "\n",
    "A_score_df\n"
   ]
  },
  {
   "cell_type": "code",
   "execution_count": 12,
   "id": "a5e28566-76f6-4ffc-8b1a-d72d9d8736aa",
   "metadata": {
    "tags": []
   },
   "outputs": [
    {
     "data": {
      "text/html": [
       "10.126582278481"
      ],
      "text/latex": [
       "10.126582278481"
      ],
      "text/markdown": [
       "10.126582278481"
      ],
      "text/plain": [
       "[1] 10.12658"
      ]
     },
     "metadata": {},
     "output_type": "display_data"
    }
   ],
   "source": [
    "nrow(A_score_df)/N *100"
   ]
  },
  {
   "cell_type": "code",
   "execution_count": 13,
   "id": "7e197a1d-8361-4d63-903c-9aaf980ed2fb",
   "metadata": {
    "tags": []
   },
   "outputs": [
    {
     "data": {
      "text/html": [
       "0.8"
      ],
      "text/latex": [
       "0.8"
      ],
      "text/markdown": [
       "0.8"
      ],
      "text/plain": [
       "[1] 0.8"
      ]
     },
     "metadata": {},
     "output_type": "display_data"
    }
   ],
   "source": [
    "16/20"
   ]
  },
  {
   "cell_type": "markdown",
   "id": "a2c98a5d-42a9-409d-8d37-c4d10c52fee5",
   "metadata": {},
   "source": [
    "### SRS for A score"
   ]
  },
  {
   "cell_type": "code",
   "execution_count": 14,
   "id": "a4f3711e-b94c-486f-ae38-bd1624dfc9ce",
   "metadata": {
    "tags": []
   },
   "outputs": [
    {
     "data": {
      "text/html": [
       "0.08"
      ],
      "text/latex": [
       "0.08"
      ],
      "text/markdown": [
       "0.08"
      ],
      "text/plain": [
       "[1] 0.08"
      ]
     },
     "metadata": {},
     "output_type": "display_data"
    },
    {
     "data": {
      "text/html": [
       "0.0271293199325011"
      ],
      "text/latex": [
       "0.0271293199325011"
      ],
      "text/markdown": [
       "0.0271293199325011"
      ],
      "text/plain": [
       "[1] 0.02712932"
      ]
     },
     "metadata": {},
     "output_type": "display_data"
    }
   ],
   "source": [
    "SRS_proportion_Ascore <- nrow(subset(SRS_sample,(G3<=20)&(G3>=16)))/n # \n",
    "se_SRS_Ascore <- sqrt(SRS_proportion_Ascore*(1-SRS_proportion_Ascore)/n) #standard error of SRS estimate\n",
    "\n",
    "SRS_CI_Ascore<- c(SRS_proportion_Ascore - 1.96* se_SRS_Ascore,SRS_proportion_Ascore + 1.96* se_SRS_Ascore)\n",
    "\n",
    "\n",
    "SRS_proportion_Ascore\n",
    "se_SRS_Ascore"
   ]
  },
  {
   "cell_type": "markdown",
   "id": "188306f4-8438-4a3f-93b2-3a39a523ccd6",
   "metadata": {
    "tags": []
   },
   "source": [
    "### Stratified sampling (proportional allocation) for A score"
   ]
  },
  {
   "cell_type": "code",
   "execution_count": 15,
   "id": "75ae3dca-95b8-4e74-b064-91007623e3aa",
   "metadata": {
    "tags": []
   },
   "outputs": [],
   "source": [
    "female_Ascore <- nrow(subset(female_sample,(G3<=20)&(G3>=16)))/female_n\n",
    "male_Ascore <- nrow(subset(male_sample,(G3<=20)&(G3>=16)))/male_n\n",
    "\n",
    "stratified_proportion_Ascore <- female_Ascore*(female_N/N)+male_Ascore*(male_N/N)\n",
    "\n",
    "se_stratified_Ascore <-sqrt((female_N/N)^2*female_FPC*(female_Ascore*(1-female_Ascore))/female_n+\n",
    "                   (male_N/N)^2*male_FPC*(male_Ascore*(1-male_Ascore))/male_n)\n",
    "stratified_CI_Ascore<- c(stratified_proportion_Ascore - 1.96* se_stratified_Ascore,stratified_proportion_Ascore + 1.96* se_stratified_Ascore)\n"
   ]
  },
  {
   "cell_type": "code",
   "execution_count": 16,
   "id": "c3eb0c80-0614-4c49-a896-8a6e4834fa37",
   "metadata": {
    "tags": []
   },
   "outputs": [
    {
     "data": {
      "text/html": [
       "0.113207547169811"
      ],
      "text/latex": [
       "0.113207547169811"
      ],
      "text/markdown": [
       "0.113207547169811"
      ],
      "text/plain": [
       "[1] 0.1132075"
      ]
     },
     "metadata": {},
     "output_type": "display_data"
    },
    {
     "data": {
      "text/html": [
       "0.0851063829787234"
      ],
      "text/latex": [
       "0.0851063829787234"
      ],
      "text/markdown": [
       "0.0851063829787234"
      ],
      "text/plain": [
       "[1] 0.08510638"
      ]
     },
     "metadata": {},
     "output_type": "display_data"
    }
   ],
   "source": [
    "female_Ascore\n",
    "male_Ascore"
   ]
  },
  {
   "cell_type": "code",
   "execution_count": 17,
   "id": "1492a86a-8b78-4ef8-90e3-591a1be7f9f9",
   "metadata": {
    "tags": []
   },
   "outputs": [
    {
     "data": {
      "text/html": [
       "<table class=\"dataframe\">\n",
       "<caption>A data.frame: 2 × 5</caption>\n",
       "<thead>\n",
       "\t<tr><th scope=col>sampling.method</th><th scope=col>proportion.of.A.score</th><th scope=col>standard.error</th><th scope=col>CI.lower</th><th scope=col>CI.upper</th></tr>\n",
       "\t<tr><th scope=col>&lt;chr&gt;</th><th scope=col>&lt;dbl&gt;</th><th scope=col>&lt;dbl&gt;</th><th scope=col>&lt;dbl&gt;</th><th scope=col>&lt;dbl&gt;</th></tr>\n",
       "</thead>\n",
       "<tbody>\n",
       "\t<tr><td>SRS              </td><td>0.08000000</td><td>0.02712932</td><td>0.02682653</td><td>0.1331735</td></tr>\n",
       "\t<tr><td>stratified method</td><td>0.09990396</td><td>0.02587237</td><td>0.04919412</td><td>0.1506138</td></tr>\n",
       "</tbody>\n",
       "</table>\n"
      ],
      "text/latex": [
       "A data.frame: 2 × 5\n",
       "\\begin{tabular}{lllll}\n",
       " sampling.method & proportion.of.A.score & standard.error & CI.lower & CI.upper\\\\\n",
       " <chr> & <dbl> & <dbl> & <dbl> & <dbl>\\\\\n",
       "\\hline\n",
       "\t SRS               & 0.08000000 & 0.02712932 & 0.02682653 & 0.1331735\\\\\n",
       "\t stratified method & 0.09990396 & 0.02587237 & 0.04919412 & 0.1506138\\\\\n",
       "\\end{tabular}\n"
      ],
      "text/markdown": [
       "\n",
       "A data.frame: 2 × 5\n",
       "\n",
       "| sampling.method &lt;chr&gt; | proportion.of.A.score &lt;dbl&gt; | standard.error &lt;dbl&gt; | CI.lower &lt;dbl&gt; | CI.upper &lt;dbl&gt; |\n",
       "|---|---|---|---|---|\n",
       "| SRS               | 0.08000000 | 0.02712932 | 0.02682653 | 0.1331735 |\n",
       "| stratified method | 0.09990396 | 0.02587237 | 0.04919412 | 0.1506138 |\n",
       "\n"
      ],
      "text/plain": [
       "  sampling.method   proportion.of.A.score standard.error CI.lower   CI.upper \n",
       "1 SRS               0.08000000            0.02712932     0.02682653 0.1331735\n",
       "2 stratified method 0.09990396            0.02587237     0.04919412 0.1506138"
      ]
     },
     "metadata": {},
     "output_type": "display_data"
    }
   ],
   "source": [
    "A_prop <- c(SRS_proportion_Ascore,stratified_proportion_Ascore)\n",
    "standard_error_A <- c(se_SRS_Ascore,se_stratified_Ascore)\n",
    "good_table_2 <- data.frame(\"sampling method\"=sampling_method,\"proportion of A score\"=A_prop,\"standard error\"=standard_error_A,\n",
    "                         \"CI lower\" = c(SRS_CI_Ascore[1],stratified_CI_Ascore[1]),\"CI upper\" = c(SRS_CI_Ascore[2],stratified_CI_Ascore[2]))\n",
    "good_table_2"
   ]
  },
  {
   "cell_type": "code",
   "execution_count": 18,
   "id": "c40f9006-d012-4ce9-8711-f7d6c58d4e6b",
   "metadata": {
    "tags": []
   },
   "outputs": [
    {
     "data": {
      "text/html": [
       "0.000743286255419583"
      ],
      "text/latex": [
       "0.000743286255419583"
      ],
      "text/markdown": [
       "0.000743286255419583"
      ],
      "text/plain": [
       "[1] 0.0007432863"
      ]
     },
     "metadata": {},
     "output_type": "display_data"
    },
    {
     "data": {
      "text/html": [
       "0.000587172643021832"
      ],
      "text/latex": [
       "0.000587172643021832"
      ],
      "text/markdown": [
       "0.000587172643021832"
      ],
      "text/plain": [
       "[1] 0.0005871726"
      ]
     },
     "metadata": {},
     "output_type": "display_data"
    }
   ],
   "source": [
    "#check within variance, we might check the the optimal alloction\n",
    "(female_N/N)*female_FPC*(female_Ascore*(1-female_Ascore))/female_n\n",
    "(male_N/N)*male_FPC*(male_Ascore*(1-male_Ascore))/male_n"
   ]
  },
  {
   "cell_type": "markdown",
   "id": "351d6de8-9ffa-4033-9e6f-fe0ac1ad98a0",
   "metadata": {},
   "source": [
    "### Stratified sampling (optimal allocation) for A score"
   ]
  },
  {
   "cell_type": "code",
   "execution_count": 21,
   "id": "1720b755-f93a-40d5-9b14-0965f57a5800",
   "metadata": {
    "tags": []
   },
   "outputs": [],
   "source": [
    "#true p of A score \n",
    "# n_female = c* female_N * (female_data$G3*(1-female_data$G3))\n",
    "# n_male = c* male_N * (male_data$G3*(1-male_data$G3))\n",
    "\n",
    "true_p_female <- nrow(subset(female_data,(G3<=20)&(G3>=16)))/nrow(female_data)\n",
    "true_p_male  <- nrow(subset(male_data,(G3<=20)&(G3>=16)))/nrow(male_data)"
   ]
  },
  {
   "cell_type": "code",
   "execution_count": 23,
   "id": "7107bca2-a81d-48e8-8d9f-a10abcd5427b",
   "metadata": {
    "tags": []
   },
   "outputs": [
    {
     "data": {
      "text/html": [
       "0.128342245989305"
      ],
      "text/latex": [
       "0.128342245989305"
      ],
      "text/markdown": [
       "0.128342245989305"
      ],
      "text/plain": [
       "[1] 0.1283422"
      ]
     },
     "metadata": {},
     "output_type": "display_data"
    },
    {
     "data": {
      "text/html": [
       "0.205265322912382"
      ],
      "text/latex": [
       "0.205265322912382"
      ],
      "text/markdown": [
       "0.205265322912382"
      ],
      "text/plain": [
       "[1] 0.2052653"
      ]
     },
     "metadata": {},
     "output_type": "display_data"
    },
    {
     "data": {
      "text/html": [
       "0.10126582278481"
      ],
      "text/latex": [
       "0.10126582278481"
      ],
      "text/markdown": [
       "0.10126582278481"
      ],
      "text/plain": [
       "[1] 0.1012658"
      ]
     },
     "metadata": {},
     "output_type": "display_data"
    }
   ],
   "source": [
    "true_p_male\n",
    "true_p_female+true_p_male\n",
    "\n",
    "nrow(A_score_df)/N"
   ]
  }
 ],
 "metadata": {
  "kernelspec": {
   "display_name": "R",
   "language": "R",
   "name": "ir"
  },
  "language_info": {
   "codemirror_mode": "r",
   "file_extension": ".r",
   "mimetype": "text/x-r-source",
   "name": "R",
   "pygments_lexer": "r",
   "version": "4.2.3"
  }
 },
 "nbformat": 4,
 "nbformat_minor": 5
}
