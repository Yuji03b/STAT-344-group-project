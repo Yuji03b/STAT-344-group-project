{
 "cells": [
  {
   "cell_type": "markdown",
   "id": "f137914c-8d6f-4313-b69a-ab997b2b2522",
   "metadata": {},
   "source": [
    "# STAT 344 GROUP PROJECT\n",
    "\n"
   ]
  },
  {
   "cell_type": "code",
   "execution_count": 1,
   "id": "aca29ddd-7b94-4712-b8a1-3a8c4af1a42c",
   "metadata": {
    "tags": []
   },
   "outputs": [
    {
     "name": "stderr",
     "output_type": "stream",
     "text": [
      "\n",
      "Attaching package: ‘dplyr’\n",
      "\n",
      "\n",
      "The following objects are masked from ‘package:stats’:\n",
      "\n",
      "    filter, lag\n",
      "\n",
      "\n",
      "The following objects are masked from ‘package:base’:\n",
      "\n",
      "    intersect, setdiff, setequal, union\n",
      "\n",
      "\n"
     ]
    }
   ],
   "source": [
    "# Run this cell before continuing.\n",
    "library(dplyr)\n",
    "library(ggplot2)\n",
    "library(tibble)\n",
    "library(infer)\n",
    "\n"
   ]
  },
  {
   "cell_type": "code",
   "execution_count": 2,
   "id": "ff2216b4-1a77-4d74-b2eb-0391c53043c4",
   "metadata": {
    "tags": []
   },
   "outputs": [],
   "source": [
    "student_df<-read.csv(\"https://raw.githubusercontent.com/Yuji03b/STAT-344-group-project/main/student_data.csv\",header=T)"
   ]
  },
  {
   "cell_type": "markdown",
   "id": "667d07c3-9010-468d-b6d8-70cf17a61b28",
   "metadata": {},
   "source": [
    "###  1. Our first parameter is : avergae final grade G3 "
   ]
  },
  {
   "cell_type": "code",
   "execution_count": 3,
   "id": "6442a782-1d7c-4752-a8a3-f586020251a6",
   "metadata": {
    "tags": []
   },
   "outputs": [],
   "source": [
    "n <- 100             #(sample size\n",
    "N <- nrow(student_df)  # population size\n",
    "\n",
    "female_data <- subset(student_df,sex==\"F\")  # the female population \n",
    "male_data <- subset(student_df,sex==\"M\")  # the male population\n",
    "\n",
    "female_N<-nrow(female_data)    # the female student population size\n",
    "male_N<-nrow(male_data)      # the male student population size"
   ]
  },
  {
   "cell_type": "markdown",
   "id": "6548cf0a-78cc-4c81-90a2-4f006f42dfd1",
   "metadata": {},
   "source": [
    "###  1.1 Determine sample size"
   ]
  },
  {
   "cell_type": "markdown",
   "id": "a2822452-a585-4a9c-87c0-5d0aad8083c7",
   "metadata": {},
   "source": [
    "\n",
    "\n"
   ]
  },
  {
   "cell_type": "markdown",
   "id": "58398d49-5bb6-4d2e-b15c-c6187a6db9e5",
   "metadata": {},
   "source": [
    "### 1.1 Stratified sample :using proportional allocation  (strata= gender)"
   ]
  },
  {
   "cell_type": "code",
   "execution_count": 4,
   "id": "a34e05d8-3907-437c-9fd9-9817776c79d7",
   "metadata": {
    "tags": []
   },
   "outputs": [],
   "source": [
    "#using proportional allocation N_k/N and take sample from each sub-population\n",
    "set.seed(12345)\n",
    "female_n <- round(n*(female_N/N))\n",
    "male_n <- round(n*(male_N/N))\n",
    "female_sample <- sample_n(female_data,size=female_n,replace=F)\n",
    "male_sample <- sample_n(male_data,size=male_n,replace=F)"
   ]
  },
  {
   "cell_type": "code",
   "execution_count": 5,
   "id": "ce0a2eb7-b467-4135-b3b2-45cd413c4848",
   "metadata": {
    "tags": []
   },
   "outputs": [],
   "source": [
    " # estimate of stratified mean\n",
    "stratified_mean_grade <- mean(female_sample$G3)*(female_N/N)+mean(male_sample$G3)*(male_N/N) \n",
    "\n",
    "# standard error of stratified mean grade\n",
    "female_FPC <- 1-female_n/female_N\n",
    "male_FPC <- 1-male_n/male_N\n",
    "\n",
    "se_stratified<-sqrt((female_N/N)^2*female_FPC*var(female_sample$G3)/female_n+\n",
    "                   (male_N/N)^2*male_FPC*var(male_sample$G3)/male_n)\n",
    "#95% confidence interval\n",
    "stratified_CI<- c(stratified_mean_grade - 1.96* se_stratified,stratified_mean_grade + 1.96* se_stratified)"
   ]
  },
  {
   "cell_type": "code",
   "execution_count": 6,
   "id": "3b1682d7-9a82-4c5b-b9ea-ea81a99a2884",
   "metadata": {
    "tags": []
   },
   "outputs": [
    {
     "data": {
      "text/html": [
       "<table class=\"dataframe\">\n",
       "<caption>A matrix: 1 × 2 of type dbl</caption>\n",
       "<thead>\n",
       "\t<tr><th scope=col>within_variance_female</th><th scope=col>within_variance_male</th></tr>\n",
       "</thead>\n",
       "<tbody>\n",
       "\t<tr><td>11.25096</td><td>9.56668</td></tr>\n",
       "</tbody>\n",
       "</table>\n"
      ],
      "text/latex": [
       "A matrix: 1 × 2 of type dbl\n",
       "\\begin{tabular}{ll}\n",
       " within\\_variance\\_female & within\\_variance\\_male\\\\\n",
       "\\hline\n",
       "\t 11.25096 & 9.56668\\\\\n",
       "\\end{tabular}\n"
      ],
      "text/markdown": [
       "\n",
       "A matrix: 1 × 2 of type dbl\n",
       "\n",
       "| within_variance_female | within_variance_male |\n",
       "|---|---|\n",
       "| 11.25096 | 9.56668 |\n",
       "\n"
      ],
      "text/plain": [
       "     within_variance_female within_variance_male\n",
       "[1,] 11.25096               9.56668             "
      ]
     },
     "metadata": {},
     "output_type": "display_data"
    }
   ],
   "source": [
    "#check within variance roungly the same we will use proportional allocation.\n",
    "within_variance_female<-(female_N/N)*var(female_data$G3)\n",
    "within_variance_male<-(male_N/N)*var(male_data$G3)\n",
    "cbind(within_variance_female,within_variance_male)"
   ]
  },
  {
   "cell_type": "markdown",
   "id": "58459711-00fe-4e99-85c9-4798cdf77da1",
   "metadata": {
    "tags": []
   },
   "source": [
    "### 1.2 Stratified sample :using optimal allocation (strata = gender)"
   ]
  },
  {
   "cell_type": "code",
   "execution_count": 16,
   "id": "cd0c9308-ff16-4c9a-88fa-ecf822f48c68",
   "metadata": {
    "tags": []
   },
   "outputs": [
    {
     "data": {
      "text/html": [
       "<table class=\"dataframe\">\n",
       "<caption>A matrix: 1 × 2 of type dbl</caption>\n",
       "<thead>\n",
       "\t<tr><th scope=col>n_female_optimal</th><th scope=col>female_n</th></tr>\n",
       "</thead>\n",
       "<tbody>\n",
       "\t<tr><td>53</td><td>53</td></tr>\n",
       "</tbody>\n",
       "</table>\n"
      ],
      "text/latex": [
       "A matrix: 1 × 2 of type dbl\n",
       "\\begin{tabular}{ll}\n",
       " n\\_female\\_optimal & female\\_n\\\\\n",
       "\\hline\n",
       "\t 53 & 53\\\\\n",
       "\\end{tabular}\n"
      ],
      "text/markdown": [
       "\n",
       "A matrix: 1 × 2 of type dbl\n",
       "\n",
       "| n_female_optimal | female_n |\n",
       "|---|---|\n",
       "| 53 | 53 |\n",
       "\n"
      ],
      "text/plain": [
       "     n_female_optimal female_n\n",
       "[1,] 53               53      "
      ]
     },
     "metadata": {},
     "output_type": "display_data"
    }
   ],
   "source": [
    "c = 100/(male_N * sd(male_data$G3) + female_N * sd(female_data$G3) )\n",
    "n_female_optimal = round(c* female_N * sd(female_data$G3),0)\n",
    "n_male_optimal = round(c* male_N * sd(male_data$G3),0)\n",
    "\n",
    "# n_female_optimal is optimal allocation female size\n",
    "# female_n is proportional allocation female size\n",
    "\n",
    "cbind(n_female_optimal,female_n)"
   ]
  },
  {
   "cell_type": "markdown",
   "id": "85707d87-db80-4c0e-a83d-f58f69d139f4",
   "metadata": {},
   "source": [
    "### 1.3 using school strata or gender strata ?"
   ]
  },
  {
   "cell_type": "code",
   "execution_count": 9,
   "id": "0af3e781-e5da-4a7d-aa04-610097cb9b04",
   "metadata": {
    "tags": []
   },
   "outputs": [
    {
     "data": {
      "text/html": [
       "<table class=\"dataframe\">\n",
       "<caption>A matrix: 1 × 2 of type dbl</caption>\n",
       "<thead>\n",
       "\t<tr><th scope=col>between_variance_of_school</th><th scope=col>between_variance_of_gender</th></tr>\n",
       "</thead>\n",
       "<tbody>\n",
       "\t<tr><td>0.0424283</td><td>0.2240846</td></tr>\n",
       "</tbody>\n",
       "</table>\n"
      ],
      "text/latex": [
       "A matrix: 1 × 2 of type dbl\n",
       "\\begin{tabular}{ll}\n",
       " between\\_variance\\_of\\_school & between\\_variance\\_of\\_gender\\\\\n",
       "\\hline\n",
       "\t 0.0424283 & 0.2240846\\\\\n",
       "\\end{tabular}\n"
      ],
      "text/markdown": [
       "\n",
       "A matrix: 1 × 2 of type dbl\n",
       "\n",
       "| between_variance_of_school | between_variance_of_gender |\n",
       "|---|---|\n",
       "| 0.0424283 | 0.2240846 |\n",
       "\n"
      ],
      "text/plain": [
       "     between_variance_of_school between_variance_of_gender\n",
       "[1,] 0.0424283                  0.2240846                 "
      ]
     },
     "metadata": {},
     "output_type": "display_data"
    }
   ],
   "source": [
    "n <- 100             #(sample size\n",
    "N <- nrow(student_df)  # population size\n",
    "\n",
    "GP_data <- subset(student_df,school==\"GP\")  # the GP school population \n",
    "MS_data <- subset(student_df,school==\"MS\")  # the MS school population\n",
    "\n",
    "#between-stratified variance of school strata\n",
    "\n",
    "between_variance_of_school<-(nrow(GP_data)/N)*(mean(GP_data$G3)-mean(student_df$G3))^2+\n",
    "                            (nrow(MS_data)/N)*(mean(MS_data$G3)-mean(student_df$G3))^2\n",
    "\n",
    "between_variance_of_gender <- (female_N/N)*(mean(female_data$G3)-mean(student_df$G3))^2+\n",
    "                                (male_N/N)*(mean(male_data$G3)-mean(student_df$G3))^2\n",
    "\n",
    "\n",
    "cbind(between_variance_of_school,\n",
    "between_variance_of_gender)"
   ]
  },
  {
   "cell_type": "markdown",
   "id": "28d545a5-55a7-46b9-ac3e-c27ccaf33cf5",
   "metadata": {},
   "source": [
    "  "
   ]
  },
  {
   "cell_type": "markdown",
   "id": "2ca2471b-03a9-463d-847a-67066e691b27",
   "metadata": {},
   "source": [
    "### Random select sample (SRS) for average G3"
   ]
  },
  {
   "cell_type": "code",
   "execution_count": 10,
   "id": "1227fbe1-92f7-49a9-a9df-a208fe3c104e",
   "metadata": {
    "tags": []
   },
   "outputs": [],
   "source": [
    "set.seed(12345)\n",
    "SRS_sample <- sample_n(student_df,size=n,replace=F)\n",
    "SRS_FPC <- (1-n/N)\n",
    "\n",
    "SRS_mean_grade <-mean(SRS_sample$G3) # estimate mean of SRS\n",
    "se_SRS <- sqrt(SRS_FPC*var(SRS_sample$G3)/n) #standard error of SRS estimate\n",
    "\n",
    "SRS_CI<- c(SRS_mean_grade - 1.96* se_SRS,SRS_mean_grade + 1.96* se_SRS)"
   ]
  },
  {
   "cell_type": "code",
   "execution_count": 11,
   "id": "5a1e0246-ed8a-4ede-a45d-605c8facc200",
   "metadata": {
    "tags": []
   },
   "outputs": [
    {
     "data": {
      "text/html": [
       "<table class=\"dataframe\">\n",
       "<caption>A data.frame: 2 × 5</caption>\n",
       "<thead>\n",
       "\t<tr><th scope=col>sampling.method</th><th scope=col>average.G3.score</th><th scope=col>standard.error</th><th scope=col>CI.lower</th><th scope=col>CI.upper</th></tr>\n",
       "\t<tr><th scope=col>&lt;chr&gt;</th><th scope=col>&lt;dbl&gt;</th><th scope=col>&lt;dbl&gt;</th><th scope=col>&lt;dbl&gt;</th><th scope=col>&lt;dbl&gt;</th></tr>\n",
       "</thead>\n",
       "<tbody>\n",
       "\t<tr><td>SRS              </td><td> 9.97000</td><td>0.3975370</td><td> 9.190827</td><td>10.74917</td></tr>\n",
       "\t<tr><td>stratified method</td><td>11.09977</td><td>0.3680666</td><td>10.378356</td><td>11.82118</td></tr>\n",
       "</tbody>\n",
       "</table>\n"
      ],
      "text/latex": [
       "A data.frame: 2 × 5\n",
       "\\begin{tabular}{lllll}\n",
       " sampling.method & average.G3.score & standard.error & CI.lower & CI.upper\\\\\n",
       " <chr> & <dbl> & <dbl> & <dbl> & <dbl>\\\\\n",
       "\\hline\n",
       "\t SRS               &  9.97000 & 0.3975370 &  9.190827 & 10.74917\\\\\n",
       "\t stratified method & 11.09977 & 0.3680666 & 10.378356 & 11.82118\\\\\n",
       "\\end{tabular}\n"
      ],
      "text/markdown": [
       "\n",
       "A data.frame: 2 × 5\n",
       "\n",
       "| sampling.method &lt;chr&gt; | average.G3.score &lt;dbl&gt; | standard.error &lt;dbl&gt; | CI.lower &lt;dbl&gt; | CI.upper &lt;dbl&gt; |\n",
       "|---|---|---|---|---|\n",
       "| SRS               |  9.97000 | 0.3975370 |  9.190827 | 10.74917 |\n",
       "| stratified method | 11.09977 | 0.3680666 | 10.378356 | 11.82118 |\n",
       "\n"
      ],
      "text/plain": [
       "  sampling.method   average.G3.score standard.error CI.lower  CI.upper\n",
       "1 SRS                9.97000         0.3975370       9.190827 10.74917\n",
       "2 stratified method 11.09977         0.3680666      10.378356 11.82118"
      ]
     },
     "metadata": {},
     "output_type": "display_data"
    }
   ],
   "source": [
    "average_G3_score <- c(SRS_mean_grade,stratified_mean_grade)\n",
    "sampling_method <- c(\"SRS\",\"stratified method\")\n",
    "standard_error <- c(se_SRS,se_stratified)\n",
    "\n",
    "\n",
    "good_table <- data.frame(\"sampling method\"=sampling_method,\n",
    "                         \"average G3 score\"=average_G3_score,\n",
    "                         \"standard error\"=standard_error,\n",
    "                         \"CI lower\" = c(SRS_CI[1],stratified_CI[1]),\n",
    "                         \"CI upper\" = c(SRS_CI[2],stratified_CI[2]))\n",
    "good_table"
   ]
  },
  {
   "cell_type": "markdown",
   "id": "862fdccc-6437-461f-86f6-419617f29b09",
   "metadata": {},
   "source": [
    "### 2. The second parmeter is : proportion of student who get 80% score in G3 (16 out of 20)\n"
   ]
  },
  {
   "cell_type": "code",
   "execution_count": 17,
   "id": "dcda89ae-2e1c-4387-b4c3-5ae06fb02656",
   "metadata": {
    "tags": []
   },
   "outputs": [
    {
     "data": {
      "text/html": [
       "10.126582278481"
      ],
      "text/latex": [
       "10.126582278481"
      ],
      "text/markdown": [
       "10.126582278481"
      ],
      "text/plain": [
       "[1] 10.12658"
      ]
     },
     "metadata": {},
     "output_type": "display_data"
    },
    {
     "data": {
      "text/html": [
       "89.873417721519"
      ],
      "text/latex": [
       "89.873417721519"
      ],
      "text/markdown": [
       "89.873417721519"
      ],
      "text/plain": [
       "[1] 89.87342"
      ]
     },
     "metadata": {},
     "output_type": "display_data"
    }
   ],
   "source": [
    "A_score_df <- subset(student_df,(G3<=20)&(G3>=16))\n",
    "(nrow(A_score_df)/N) *n   #check if np >10\n",
    "(1-nrow(A_score_df)/N) *n   #check if n(1-p) >10"
   ]
  },
  {
   "cell_type": "markdown",
   "id": "a2c98a5d-42a9-409d-8d37-c4d10c52fee5",
   "metadata": {},
   "source": [
    "### 2.1 SRS for A score (80%)"
   ]
  },
  {
   "cell_type": "code",
   "execution_count": 13,
   "id": "a4f3711e-b94c-486f-ae38-bd1624dfc9ce",
   "metadata": {
    "tags": []
   },
   "outputs": [
    {
     "data": {
      "text/html": [
       "<table class=\"dataframe\">\n",
       "<caption>A matrix: 1 × 2 of type dbl</caption>\n",
       "<thead>\n",
       "\t<tr><th scope=col>SRS_proportion_Ascore</th><th scope=col>se_SRS_Ascore</th></tr>\n",
       "</thead>\n",
       "<tbody>\n",
       "\t<tr><td>0.08</td><td>0.02344506</td></tr>\n",
       "</tbody>\n",
       "</table>\n"
      ],
      "text/latex": [
       "A matrix: 1 × 2 of type dbl\n",
       "\\begin{tabular}{ll}\n",
       " SRS\\_proportion\\_Ascore & se\\_SRS\\_Ascore\\\\\n",
       "\\hline\n",
       "\t 0.08 & 0.02344506\\\\\n",
       "\\end{tabular}\n"
      ],
      "text/markdown": [
       "\n",
       "A matrix: 1 × 2 of type dbl\n",
       "\n",
       "| SRS_proportion_Ascore | se_SRS_Ascore |\n",
       "|---|---|\n",
       "| 0.08 | 0.02344506 |\n",
       "\n"
      ],
      "text/plain": [
       "     SRS_proportion_Ascore se_SRS_Ascore\n",
       "[1,] 0.08                  0.02344506   "
      ]
     },
     "metadata": {},
     "output_type": "display_data"
    }
   ],
   "source": [
    "SRS_proportion_Ascore <- nrow(subset(SRS_sample,(G3<=20)&(G3>=16)))/n \n",
    "se_SRS_Ascore <- sqrt(SRS_FPC*SRS_proportion_Ascore*(1-SRS_proportion_Ascore)/n) #standard error of SRS estimate\n",
    "\n",
    "SRS_CI_Ascore<- c(SRS_proportion_Ascore - 1.96* se_SRS_Ascore,SRS_proportion_Ascore + 1.96* se_SRS_Ascore)\n",
    "\n",
    "\n",
    "cbind(SRS_proportion_Ascore,\n",
    "se_SRS_Ascore)"
   ]
  },
  {
   "cell_type": "markdown",
   "id": "188306f4-8438-4a3f-93b2-3a39a523ccd6",
   "metadata": {
    "tags": []
   },
   "source": [
    "### 2.2 Stratified sampling (proportional allocation) for A score"
   ]
  },
  {
   "cell_type": "code",
   "execution_count": 18,
   "id": "75ae3dca-95b8-4e74-b064-91007623e3aa",
   "metadata": {
    "tags": []
   },
   "outputs": [],
   "source": [
    "female_Ascore <- nrow(subset(female_sample,(G3<=20)&(G3>=16)))/female_n\n",
    "male_Ascore <- nrow(subset(male_sample,(G3<=20)&(G3>=16)))/male_n\n",
    "\n",
    "stratified_proportion_Ascore <- female_Ascore*(female_N/N)+male_Ascore*(male_N/N)\n",
    "\n",
    "se_stratified_Ascore <-sqrt((female_N/N)^2*female_FPC*(female_Ascore*(1-female_Ascore))/female_n+\n",
    "                   (male_N/N)^2*male_FPC*(male_Ascore*(1-male_Ascore))/male_n)\n",
    "stratified_CI_Ascore<- c(stratified_proportion_Ascore - 1.96* se_stratified_Ascore,\n",
    "                         stratified_proportion_Ascore + 1.96* se_stratified_Ascore)\n"
   ]
  },
  {
   "cell_type": "markdown",
   "id": "d6a731ed-a7f3-4dd0-91c9-a37f29279b90",
   "metadata": {},
   "source": [
    "#### 2.2.1 check between variance of gender and school"
   ]
  },
  {
   "cell_type": "code",
   "execution_count": 21,
   "id": "ed47cf9e-cf24-45ad-96ed-a8d540e9a934",
   "metadata": {
    "tags": []
   },
   "outputs": [
    {
     "data": {
      "text/html": [
       "<table class=\"dataframe\">\n",
       "<caption>A matrix: 1 × 2 of type dbl</caption>\n",
       "<thead>\n",
       "\t<tr><th scope=col>between_variance_gender</th><th scope=col>between_variance_of_school</th></tr>\n",
       "</thead>\n",
       "<tbody>\n",
       "\t<tr><td>0.0006591145</td><td>0.0001712794</td></tr>\n",
       "</tbody>\n",
       "</table>\n"
      ],
      "text/latex": [
       "A matrix: 1 × 2 of type dbl\n",
       "\\begin{tabular}{ll}\n",
       " between\\_variance\\_gender & between\\_variance\\_of\\_school\\\\\n",
       "\\hline\n",
       "\t 0.0006591145 & 0.0001712794\\\\\n",
       "\\end{tabular}\n"
      ],
      "text/markdown": [
       "\n",
       "A matrix: 1 × 2 of type dbl\n",
       "\n",
       "| between_variance_gender | between_variance_of_school |\n",
       "|---|---|\n",
       "| 0.0006591145 | 0.0001712794 |\n",
       "\n"
      ],
      "text/plain": [
       "     between_variance_gender between_variance_of_school\n",
       "[1,] 0.0006591145            0.0001712794              "
      ]
     },
     "metadata": {},
     "output_type": "display_data"
    }
   ],
   "source": [
    "#gender variance \n",
    "\n",
    "female_A_true_p <- nrow(subset(female_data,(G3<=20)&(G3>=16)))/nrow(female_data)\n",
    "male_A_true_p <- nrow(subset(male_data,(G3<=20)&(G3>=16)))/nrow(male_data)\n",
    "true_p <- nrow(subset(student_df,(G3<=20)&(G3>=16)))/N\n",
    "\n",
    "\n",
    "between_variance_gender <- (nrow(female_data)/N)*(female_A_true_p-true_p)^2+\n",
    "                            (nrow(male_data)/N)*(male_A_true_p-true_p)^2\n",
    "\n",
    "GP_A_true_p <- nrow(subset(GP_data,(G3<=20)&(G3>=16)))/nrow(GP_data)\n",
    "MS_A_true_p <- nrow(subset(MS_data,(G3<=20)&(G3>=16)))/nrow(MS_data)\n",
    "\n",
    "\n",
    "\n",
    "between_variance_of_school<-(nrow(GP_data)/N)*(GP_A_true_p-true_p)^2+\n",
    "                            (nrow(MS_data)/N)*(MS_A_true_p-true_p)^2\n",
    "\n",
    "\n",
    "cbind(between_variance_gender,between_variance_of_school)"
   ]
  },
  {
   "cell_type": "markdown",
   "id": "4e8fa197-4eb0-4083-8cd8-db3ca79ca9d1",
   "metadata": {
    "tags": []
   },
   "source": [
    "### 2.2.2 check optimal allocation"
   ]
  },
  {
   "cell_type": "code",
   "execution_count": 23,
   "id": "26e1114b-9090-4311-913c-68032267e7b2",
   "metadata": {
    "tags": []
   },
   "outputs": [
    {
     "data": {
      "text/html": [
       "<table class=\"dataframe\">\n",
       "<caption>A matrix: 1 × 2 of type dbl</caption>\n",
       "<thead>\n",
       "\t<tr><th scope=col>n_female_optimal_A</th><th scope=col>female_n</th></tr>\n",
       "</thead>\n",
       "<tbody>\n",
       "\t<tr><td>47</td><td>53</td></tr>\n",
       "</tbody>\n",
       "</table>\n"
      ],
      "text/latex": [
       "A matrix: 1 × 2 of type dbl\n",
       "\\begin{tabular}{ll}\n",
       " n\\_female\\_optimal\\_A & female\\_n\\\\\n",
       "\\hline\n",
       "\t 47 & 53\\\\\n",
       "\\end{tabular}\n"
      ],
      "text/markdown": [
       "\n",
       "A matrix: 1 × 2 of type dbl\n",
       "\n",
       "| n_female_optimal_A | female_n |\n",
       "|---|---|\n",
       "| 47 | 53 |\n",
       "\n"
      ],
      "text/plain": [
       "     n_female_optimal_A female_n\n",
       "[1,] 47                 53      "
      ]
     },
     "metadata": {},
     "output_type": "display_data"
    }
   ],
   "source": [
    "\n",
    "c = 100/(male_N * sqrt(male_A_true_p*(1-male_A_true_p) )+ \n",
    "         female_N * sqrt(female_A_true_p*( 1-female_A_true_p)))\n",
    "\n",
    "n_female_optimal_A = round(c* female_N * sqrt(female_A_true_p*( 1-female_A_true_p)),0)\n",
    "n_male_optimal_A = round(c* male_N * sqrt(male_A_true_p*( 1-male_A_true_p)),0)\n",
    "\n",
    "# n_female_optimal_A is  optical allocation female size\n",
    "# female_n is proportional allocation female size\n",
    "\n",
    "cbind(n_female_optimal_A,female_n)"
   ]
  },
  {
   "cell_type": "markdown",
   "id": "c77ff1b2-126a-4bab-9759-017a757c443b",
   "metadata": {},
   "source": [
    "### 2.3 Stratified sampling (optimal allocation) for A score"
   ]
  },
  {
   "cell_type": "code",
   "execution_count": 26,
   "id": "1720b755-f93a-40d5-9b14-0965f57a5800",
   "metadata": {
    "tags": []
   },
   "outputs": [],
   "source": [
    "set.seed(12345)\n",
    "female_sample2 <- sample_n(female_data,size=n_female_optimal_A,replace=F)\n",
    "male_sample2 <- sample_n(male_data,size=n_male_optimal_A,replace=F)\n",
    "\n",
    "female_FPC2 <- (1-n_female_optimal_A/female_N)\n",
    "male_FPC2 <- (1-n_male_optimal_A/male_N)\n",
    "\n",
    "female_Ascore_op <- nrow(subset(female_sample2,(G3<=20)&(G3>=16)))/nrow(female_sample2)\n",
    "male_Ascore_op <- nrow(subset(male_sample2,(G3<=20)&(G3>=16)))/nrow(male_sample2)\n",
    "\n",
    "stratified_proportion_Ascore_op <- female_Ascore_op*(female_N/N)+male_Ascore_op*(male_N/N)\n",
    "\n",
    "se_stratified_Ascore_op <-sqrt((female_N/N)^2*female_FPC2*(female_Ascore_op*(1-female_Ascore_op))/nrow(female_sample2)+\n",
    "                   (male_N/N)^2*male_FPC2*(male_Ascore_op*(1-male_Ascore_op))/nrow(male_sample2))\n",
    "stratified_CI_Ascore_op<- c(stratified_proportion_Ascore_op - 1.96* se_stratified_Ascore_op,\n",
    "                            stratified_proportion_Ascore_op + 1.96* se_stratified_Ascore_op)"
   ]
  },
  {
   "cell_type": "markdown",
   "id": "35795598-e634-48d8-b474-d79e3e15d6e4",
   "metadata": {},
   "source": [
    "### Conclusion table 2"
   ]
  },
  {
   "cell_type": "code",
   "execution_count": 27,
   "id": "1492a86a-8b78-4ef8-90e3-591a1be7f9f9",
   "metadata": {
    "tags": []
   },
   "outputs": [
    {
     "data": {
      "text/html": [
       "<table class=\"dataframe\">\n",
       "<caption>A data.frame: 3 × 5</caption>\n",
       "<thead>\n",
       "\t<tr><th scope=col>sampling.method</th><th scope=col>proportion.of.A.score</th><th scope=col>standard.error</th><th scope=col>CI.lower</th><th scope=col>CI.upper</th></tr>\n",
       "\t<tr><th scope=col>&lt;chr&gt;</th><th scope=col>&lt;dbl&gt;</th><th scope=col>&lt;dbl&gt;</th><th scope=col>&lt;dbl&gt;</th><th scope=col>&lt;dbl&gt;</th></tr>\n",
       "</thead>\n",
       "<tbody>\n",
       "\t<tr><td>SRS                                        </td><td>0.08000000</td><td>0.02344506</td><td>0.03404768</td><td>0.1259523</td></tr>\n",
       "\t<tr><td>Stratification with proportional alloction </td><td>0.09990396</td><td>0.02587237</td><td>0.04919412</td><td>0.1506138</td></tr>\n",
       "\t<tr><td>Stratification with optimal alloction      </td><td>0.11188532</td><td>0.02770299</td><td>0.05758746</td><td>0.1661832</td></tr>\n",
       "</tbody>\n",
       "</table>\n"
      ],
      "text/latex": [
       "A data.frame: 3 × 5\n",
       "\\begin{tabular}{lllll}\n",
       " sampling.method & proportion.of.A.score & standard.error & CI.lower & CI.upper\\\\\n",
       " <chr> & <dbl> & <dbl> & <dbl> & <dbl>\\\\\n",
       "\\hline\n",
       "\t SRS                                         & 0.08000000 & 0.02344506 & 0.03404768 & 0.1259523\\\\\n",
       "\t Stratification with proportional alloction  & 0.09990396 & 0.02587237 & 0.04919412 & 0.1506138\\\\\n",
       "\t Stratification with optimal alloction       & 0.11188532 & 0.02770299 & 0.05758746 & 0.1661832\\\\\n",
       "\\end{tabular}\n"
      ],
      "text/markdown": [
       "\n",
       "A data.frame: 3 × 5\n",
       "\n",
       "| sampling.method &lt;chr&gt; | proportion.of.A.score &lt;dbl&gt; | standard.error &lt;dbl&gt; | CI.lower &lt;dbl&gt; | CI.upper &lt;dbl&gt; |\n",
       "|---|---|---|---|---|\n",
       "| SRS                                         | 0.08000000 | 0.02344506 | 0.03404768 | 0.1259523 |\n",
       "| Stratification with proportional alloction  | 0.09990396 | 0.02587237 | 0.04919412 | 0.1506138 |\n",
       "| Stratification with optimal alloction       | 0.11188532 | 0.02770299 | 0.05758746 | 0.1661832 |\n",
       "\n"
      ],
      "text/plain": [
       "  sampling.method                             proportion.of.A.score\n",
       "1 SRS                                         0.08000000           \n",
       "2 Stratification with proportional alloction  0.09990396           \n",
       "3 Stratification with optimal alloction       0.11188532           \n",
       "  standard.error CI.lower   CI.upper \n",
       "1 0.02344506     0.03404768 0.1259523\n",
       "2 0.02587237     0.04919412 0.1506138\n",
       "3 0.02770299     0.05758746 0.1661832"
      ]
     },
     "metadata": {},
     "output_type": "display_data"
    }
   ],
   "source": [
    "sampling_method2 <- c(\"SRS\",\"Stratification with proportional alloction \",\"Stratification with optimal alloction\")\n",
    "A_prop <- c(SRS_proportion_Ascore,stratified_proportion_Ascore,stratified_proportion_Ascore_op)\n",
    "standard_error_A <- c(se_SRS_Ascore,se_stratified_Ascore,se_stratified_Ascore_op)\n",
    "good_table_2 <- data.frame(\"sampling method\"=sampling_method2,\"proportion of A score\"=A_prop,\"standard error\"=standard_error_A,\n",
    "                         \"CI lower\" = c(SRS_CI_Ascore[1],stratified_CI_Ascore[1],stratified_CI_Ascore_op[1]),\n",
    "                           \"CI upper\" = c(SRS_CI_Ascore[2],stratified_CI_Ascore[2],stratified_CI_Ascore_op[2]))\n",
    "good_table_2"
   ]
  },
  {
   "cell_type": "code",
   "execution_count": null,
   "id": "c40f9006-d012-4ce9-8711-f7d6c58d4e6b",
   "metadata": {
    "tags": []
   },
   "outputs": [],
   "source": []
  }
 ],
 "metadata": {
  "kernelspec": {
   "display_name": "R",
   "language": "R",
   "name": "ir"
  },
  "language_info": {
   "codemirror_mode": "r",
   "file_extension": ".r",
   "mimetype": "text/x-r-source",
   "name": "R",
   "pygments_lexer": "r",
   "version": "4.2.3"
  }
 },
 "nbformat": 4,
 "nbformat_minor": 5
}
