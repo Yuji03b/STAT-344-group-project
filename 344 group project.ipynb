{
 "cells": [
  {
   "cell_type": "markdown",
   "id": "f137914c-8d6f-4313-b69a-ab997b2b2522",
   "metadata": {},
   "source": [
    "# STAT 344 GROUP PROJECT\n",
    "\n"
   ]
  },
  {
   "cell_type": "code",
   "execution_count": 14,
   "id": "aca29ddd-7b94-4712-b8a1-3a8c4af1a42c",
   "metadata": {
    "tags": []
   },
   "outputs": [],
   "source": [
    "# Run this cell before continuing.\n",
    "#library(dplyr)\n",
    "library(ggplot2)\n",
    "library(tibble)\n",
    "library(infer)"
   ]
  },
  {
   "cell_type": "code",
   "execution_count": 15,
   "id": "ff2216b4-1a77-4d74-b2eb-0391c53043c4",
   "metadata": {
    "tags": []
   },
   "outputs": [],
   "source": [
    "student_df<-read.csv(\"https://raw.githubusercontent.com/Yuji03b/STAT-344-group-project/main/student_data.csv\",header=T)"
   ]
  },
  {
   "cell_type": "code",
   "execution_count": 16,
   "id": "0315f004-363d-4ce7-ba67-a836fa6931e2",
   "metadata": {
    "tags": []
   },
   "outputs": [],
   "source": [
    "set.seed(12345)"
   ]
  },
  {
   "cell_type": "code",
   "execution_count": 17,
   "id": "6442a782-1d7c-4752-a8a3-f586020251a6",
   "metadata": {
    "tags": []
   },
   "outputs": [
    {
     "data": {
      "text/html": [
       "395"
      ],
      "text/latex": [
       "395"
      ],
      "text/markdown": [
       "395"
      ],
      "text/plain": [
       "[1] 395"
      ]
     },
     "metadata": {},
     "output_type": "display_data"
    }
   ],
   "source": [
    "n <- 100               #(sample size\n",
    "N <- nrow(student_df)  # population size\n",
    "N"
   ]
  },
  {
   "cell_type": "markdown",
   "id": "074a3bae-89c8-4726-b79c-abdbda72ddaf",
   "metadata": {
    "tags": []
   },
   "source": [
    "#### Our first parameter is : avergae final grade G3 \n",
    "#### The second parmeter is : proportion of student who get 90% score in G3 (18 out of 20)"
   ]
  },
  {
   "cell_type": "code",
   "execution_count": 18,
   "id": "bbb47c51-e7f2-4799-bce5-d8fede863a13",
   "metadata": {
    "tags": []
   },
   "outputs": [],
   "source": [
    "female_data <- subset(student_df,sex==\"F\")  # the female population \n",
    "male_data <- subset(student_df,sex==\"M\")  # the male population"
   ]
  },
  {
   "cell_type": "code",
   "execution_count": 19,
   "id": "e365bb43-3bb5-470b-9543-dfae01b3deb6",
   "metadata": {
    "tags": []
   },
   "outputs": [],
   "source": [
    "female_population_size<-nrow(female_data)    # the female student population size\n",
    "male_population_size<-nrow(male_data)      # the male student population size\n"
   ]
  },
  {
   "cell_type": "markdown",
   "id": "a2822452-a585-4a9c-87c0-5d0aad8083c7",
   "metadata": {},
   "source": [
    "\n",
    "\n"
   ]
  },
  {
   "cell_type": "markdown",
   "id": "58398d49-5bb6-4d2e-b15c-c6187a6db9e5",
   "metadata": {},
   "source": [
    "### Stratified sample"
   ]
  },
  {
   "cell_type": "code",
   "execution_count": 20,
   "id": "a34e05d8-3907-437c-9fd9-9817776c79d7",
   "metadata": {
    "tags": []
   },
   "outputs": [],
   "source": [
    "female_sample_size <- round(n*(female_population_size/N))\n",
    "male_sample_size <- round(n*(male_population_size/N))\n",
    "female_sample <- rep_sample_n(female_data,size=female_sample_size,replace=F)\n",
    "male_sample <- rep_sample_n(female_data,size=male_sample_size,replace=F)"
   ]
  },
  {
   "cell_type": "markdown",
   "id": "c8b19b72-1acd-42e8-87a6-b9457c6b7da8",
   "metadata": {
    "tags": []
   },
   "source": [
    "##### THE Average grade will be ......"
   ]
  },
  {
   "cell_type": "code",
   "execution_count": 21,
   "id": "ce0a2eb7-b467-4135-b3b2-45cd413c4848",
   "metadata": {
    "tags": []
   },
   "outputs": [
    {
     "data": {
      "text/html": [
       "10.6867853386114"
      ],
      "text/latex": [
       "10.6867853386114"
      ],
      "text/markdown": [
       "10.6867853386114"
      ],
      "text/plain": [
       "[1] 10.68679"
      ]
     },
     "metadata": {},
     "output_type": "display_data"
    }
   ],
   "source": [
    "stratified_mean_grade <- mean(female_sample$G3)*(female_population_size/N)+mean(male_sample$G3)*(male_population_size/N)\n",
    "stratified_mean_grade"
   ]
  },
  {
   "cell_type": "code",
   "execution_count": 22,
   "id": "80ab0274-ef34-446d-9eda-650173e7fd5b",
   "metadata": {
    "tags": []
   },
   "outputs": [
    {
     "data": {
      "text/html": [
       "0.369588808721991"
      ],
      "text/latex": [
       "0.369588808721991"
      ],
      "text/markdown": [
       "0.369588808721991"
      ],
      "text/plain": [
       "[1] 0.3695888"
      ]
     },
     "metadata": {},
     "output_type": "display_data"
    }
   ],
   "source": [
    "# standard error of stratified mean grade\n",
    "female_FPC <- 1-female_sample_size/female_population_size\n",
    "male_FPC <- 1-male_sample_size/male_population_size\n",
    "\n",
    "se_statified<-sqrt((female_population_size/N)^2*female_FPC*var(female_sample$G3)/female_sample_size+\n",
    "                   (male_population_size/N)^2*male_FPC*var(male_sample$G3)/male_sample_size)\n",
    "\n",
    "se_statified"
   ]
  },
  {
   "cell_type": "markdown",
   "id": "28d545a5-55a7-46b9-ac3e-c27ccaf33cf5",
   "metadata": {},
   "source": [
    "  "
   ]
  },
  {
   "cell_type": "markdown",
   "id": "2ca2471b-03a9-463d-847a-67066e691b27",
   "metadata": {},
   "source": [
    "### Random select sample"
   ]
  },
  {
   "cell_type": "code",
   "execution_count": 23,
   "id": "1227fbe1-92f7-49a9-a9df-a208fe3c104e",
   "metadata": {
    "tags": []
   },
   "outputs": [],
   "source": [
    "SRS_sample <- rep_sample_n(student_df,size=n,replace=F)"
   ]
  },
  {
   "cell_type": "code",
   "execution_count": 24,
   "id": "d4f96c2a-5b81-4e32-89d2-c0b126659d69",
   "metadata": {
    "tags": []
   },
   "outputs": [
    {
     "data": {
      "text/html": [
       "10.54"
      ],
      "text/latex": [
       "10.54"
      ],
      "text/markdown": [
       "10.54"
      ],
      "text/plain": [
       "[1] 10.54"
      ]
     },
     "metadata": {},
     "output_type": "display_data"
    }
   ],
   "source": [
    "SRS_mean_grade <-mean(SRS_sample$G3)\n",
    "SRS_mean_grade"
   ]
  },
  {
   "cell_type": "code",
   "execution_count": 25,
   "id": "b7d2a1b5-778b-451f-b323-ad40a9732cdd",
   "metadata": {
    "tags": []
   },
   "outputs": [
    {
     "data": {
      "text/html": [
       "0.394291123849502"
      ],
      "text/latex": [
       "0.394291123849502"
      ],
      "text/markdown": [
       "0.394291123849502"
      ],
      "text/plain": [
       "[1] 0.3942911"
      ]
     },
     "metadata": {},
     "output_type": "display_data"
    }
   ],
   "source": [
    "#standard error of SRS estimate\n",
    "\n",
    "s2<-sum((SRS_sample$G3-mean(SRS_sample$G3))^2)/(n-1)\n",
    "\n",
    "se_SRS <- sqrt((1-n/N)*s2/n)\n",
    "se_SRS"
   ]
  },
  {
   "cell_type": "code",
   "execution_count": 26,
   "id": "b1d88479-996f-4252-8e11-0e477a4ace10",
   "metadata": {
    "tags": []
   },
   "outputs": [
    {
     "data": {
      "text/html": [
       "20.8165656565657"
      ],
      "text/latex": [
       "20.8165656565657"
      ],
      "text/markdown": [
       "20.8165656565657"
      ],
      "text/plain": [
       "[1] 20.81657"
      ]
     },
     "metadata": {},
     "output_type": "display_data"
    }
   ],
   "source": [
    "var(SRS_sample$G3)"
   ]
  },
  {
   "cell_type": "code",
   "execution_count": null,
   "id": "71db68c3-ad6b-4fe3-bf6f-e1d7d46f2723",
   "metadata": {
    "tags": []
   },
   "outputs": [],
   "source": []
  },
  {
   "cell_type": "code",
   "execution_count": null,
   "id": "ddcccfa5-d8e1-4ca3-8a02-58cb1e23a84f",
   "metadata": {},
   "outputs": [],
   "source": []
  }
 ],
 "metadata": {
  "kernelspec": {
   "display_name": "R",
   "language": "R",
   "name": "ir"
  },
  "language_info": {
   "codemirror_mode": "r",
   "file_extension": ".r",
   "mimetype": "text/x-r-source",
   "name": "R",
   "pygments_lexer": "r",
   "version": "4.2.3"
  }
 },
 "nbformat": 4,
 "nbformat_minor": 5
}
