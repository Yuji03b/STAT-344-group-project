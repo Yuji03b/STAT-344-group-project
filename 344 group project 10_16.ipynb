{
 "cells": [
  {
   "cell_type": "markdown",
   "id": "f137914c-8d6f-4313-b69a-ab997b2b2522",
   "metadata": {},
   "source": [
    "# STAT 344 GROUP PROJECT\n",
    "\n"
   ]
  },
  {
   "cell_type": "code",
   "execution_count": 1,
   "id": "aca29ddd-7b94-4712-b8a1-3a8c4af1a42c",
   "metadata": {
    "tags": []
   },
   "outputs": [
    {
     "name": "stderr",
     "output_type": "stream",
     "text": [
      "\n",
      "Attaching package: ‘dplyr’\n",
      "\n",
      "\n",
      "The following objects are masked from ‘package:stats’:\n",
      "\n",
      "    filter, lag\n",
      "\n",
      "\n",
      "The following objects are masked from ‘package:base’:\n",
      "\n",
      "    intersect, setdiff, setequal, union\n",
      "\n",
      "\n"
     ]
    }
   ],
   "source": [
    "# Run this cell before continuing.\n",
    "library(dplyr)\n",
    "library(ggplot2)\n",
    "library(tibble)\n",
    "library(infer)"
   ]
  },
  {
   "cell_type": "code",
   "execution_count": 2,
   "id": "ff2216b4-1a77-4d74-b2eb-0391c53043c4",
   "metadata": {
    "tags": []
   },
   "outputs": [],
   "source": [
    "student_df<-read.csv(\"https://raw.githubusercontent.com/Yuji03b/STAT-344-group-project/main/student_data.csv\",header=T)"
   ]
  },
  {
   "cell_type": "code",
   "execution_count": 3,
   "id": "0315f004-363d-4ce7-ba67-a836fa6931e2",
   "metadata": {
    "tags": []
   },
   "outputs": [],
   "source": [
    "set.seed(12345)"
   ]
  },
  {
   "cell_type": "code",
   "execution_count": 4,
   "id": "6442a782-1d7c-4752-a8a3-f586020251a6",
   "metadata": {
    "tags": []
   },
   "outputs": [
    {
     "data": {
      "text/html": [
       "395"
      ],
      "text/latex": [
       "395"
      ],
      "text/markdown": [
       "395"
      ],
      "text/plain": [
       "[1] 395"
      ]
     },
     "metadata": {},
     "output_type": "display_data"
    }
   ],
   "source": [
    "n <- 100               #(sample size\n",
    "N <- nrow(student_df)  # population size\n",
    "N"
   ]
  },
  {
   "cell_type": "markdown",
   "id": "074a3bae-89c8-4726-b79c-abdbda72ddaf",
   "metadata": {
    "tags": []
   },
   "source": [
    "#### Our first parameter is : avergae final grade G3 \n",
    "#### The second parmeter is : proportion of student who get 90% score in G3 (18 out of 20)\n",
    "        !!!  second paramter is binary population"
   ]
  },
  {
   "cell_type": "code",
   "execution_count": 5,
   "id": "bbb47c51-e7f2-4799-bce5-d8fede863a13",
   "metadata": {
    "tags": []
   },
   "outputs": [],
   "source": [
    "female_data <- subset(student_df,sex==\"F\")  # the female population \n",
    "male_data <- subset(student_df,sex==\"M\")  # the male population"
   ]
  },
  {
   "cell_type": "code",
   "execution_count": 25,
   "id": "e365bb43-3bb5-470b-9543-dfae01b3deb6",
   "metadata": {
    "tags": []
   },
   "outputs": [],
   "source": [
    "female_population_size<-nrow(female_data)    # the female student population size\n",
    "male_population_size<-nrow(male_data)      # the male student population size\n"
   ]
  },
  {
   "cell_type": "code",
   "execution_count": 33,
   "id": "5831bb32-b530-4562-96a6-cd60da61a722",
   "metadata": {
    "tags": []
   },
   "outputs": [
    {
     "data": {
      "text/html": [
       "4.62233833743113"
      ],
      "text/latex": [
       "4.62233833743113"
      ],
      "text/markdown": [
       "4.62233833743113"
      ],
      "text/plain": [
       "[1] 4.622338"
      ]
     },
     "metadata": {},
     "output_type": "display_data"
    },
    {
     "data": {
      "text/html": [
       "4.49529683498638"
      ],
      "text/latex": [
       "4.49529683498638"
      ],
      "text/markdown": [
       "4.49529683498638"
      ],
      "text/plain": [
       "[1] 4.495297"
      ]
     },
     "metadata": {},
     "output_type": "display_data"
    }
   ],
   "source": [
    "sd(female_data$G3)\n",
    "sd(male_data$G3)\n"
   ]
  },
  {
   "cell_type": "markdown",
   "id": "a2822452-a585-4a9c-87c0-5d0aad8083c7",
   "metadata": {},
   "source": [
    "\n",
    "\n"
   ]
  },
  {
   "cell_type": "markdown",
   "id": "58398d49-5bb6-4d2e-b15c-c6187a6db9e5",
   "metadata": {},
   "source": [
    "### Stratified sample :using proportional allocation N_k/N"
   ]
  },
  {
   "cell_type": "code",
   "execution_count": 15,
   "id": "a34e05d8-3907-437c-9fd9-9817776c79d7",
   "metadata": {
    "tags": []
   },
   "outputs": [],
   "source": [
    "#using proportional allocation N_k/N\n",
    "\n",
    "female_sample_size <- round(n*(female_population_size/N))\n",
    "male_sample_size <- round(n*(male_population_size/N))\n",
    "female_sample <- rep_sample_n(female_data,size=female_sample_size,replace=F)\n",
    "male_sample <- rep_sample_n(female_data,size=male_sample_size,replace=F)"
   ]
  },
  {
   "cell_type": "markdown",
   "id": "c8b19b72-1acd-42e8-87a6-b9457c6b7da8",
   "metadata": {
    "tags": []
   },
   "source": [
    "##### THE Average grade will be ......"
   ]
  },
  {
   "cell_type": "code",
   "execution_count": 16,
   "id": "ce0a2eb7-b467-4135-b3b2-45cd413c4848",
   "metadata": {
    "tags": []
   },
   "outputs": [
    {
     "data": {
      "text/html": [
       "9.7289970475992"
      ],
      "text/latex": [
       "9.7289970475992"
      ],
      "text/markdown": [
       "9.7289970475992"
      ],
      "text/plain": [
       "[1] 9.728997"
      ]
     },
     "metadata": {},
     "output_type": "display_data"
    }
   ],
   "source": [
    "stratified_mean_grade <- mean(female_sample$G3)*(female_population_size/N)+mean(male_sample$G3)*(male_population_size/N)\n",
    "stratified_mean_grade"
   ]
  },
  {
   "cell_type": "code",
   "execution_count": 37,
   "id": "80ab0274-ef34-446d-9eda-650173e7fd5b",
   "metadata": {
    "tags": []
   },
   "outputs": [
    {
     "data": {
      "text/html": [
       "0.445310447960517"
      ],
      "text/latex": [
       "0.445310447960517"
      ],
      "text/markdown": [
       "0.445310447960517"
      ],
      "text/plain": [
       "[1] 0.4453104"
      ]
     },
     "metadata": {},
     "output_type": "display_data"
    },
    {
     "data": {
      "text/html": [
       "0.745192307692308"
      ],
      "text/latex": [
       "0.745192307692308"
      ],
      "text/markdown": [
       "0.745192307692308"
      ],
      "text/plain": [
       "[1] 0.7451923"
      ]
     },
     "metadata": {},
     "output_type": "display_data"
    }
   ],
   "source": [
    "# standard error of stratified mean grade\n",
    "female_FPC <- 1-female_sample_size/female_population_size\n",
    "male_FPC <- 1-male_sample_size/male_population_size\n",
    "\n",
    "se_statified<-sqrt((female_population_size/N)^2*female_FPC*var(female_sample$G3)/female_sample_size+\n",
    "                   (male_population_size/N)^2*male_FPC*var(male_sample$G3)/male_sample_size)\n",
    "\n",
    "\n",
    "se_statified\n"
   ]
  },
  {
   "cell_type": "markdown",
   "id": "28d545a5-55a7-46b9-ac3e-c27ccaf33cf5",
   "metadata": {},
   "source": [
    "  "
   ]
  },
  {
   "cell_type": "markdown",
   "id": "2ca2471b-03a9-463d-847a-67066e691b27",
   "metadata": {},
   "source": [
    "### Random select sample"
   ]
  },
  {
   "cell_type": "code",
   "execution_count": 18,
   "id": "1227fbe1-92f7-49a9-a9df-a208fe3c104e",
   "metadata": {
    "tags": []
   },
   "outputs": [],
   "source": [
    "SRS_sample <- rep_sample_n(student_df,size=n,replace=F)"
   ]
  },
  {
   "cell_type": "code",
   "execution_count": 19,
   "id": "d4f96c2a-5b81-4e32-89d2-c0b126659d69",
   "metadata": {
    "tags": []
   },
   "outputs": [
    {
     "data": {
      "text/html": [
       "10.37"
      ],
      "text/latex": [
       "10.37"
      ],
      "text/markdown": [
       "10.37"
      ],
      "text/plain": [
       "[1] 10.37"
      ]
     },
     "metadata": {},
     "output_type": "display_data"
    }
   ],
   "source": [
    "SRS_mean_grade <-mean(SRS_sample$G3)\n",
    "SRS_mean_grade"
   ]
  },
  {
   "cell_type": "code",
   "execution_count": 22,
   "id": "b7d2a1b5-778b-451f-b323-ad40a9732cdd",
   "metadata": {
    "tags": []
   },
   "outputs": [
    {
     "data": {
      "text/html": [
       "0.412348533562705"
      ],
      "text/latex": [
       "0.412348533562705"
      ],
      "text/markdown": [
       "0.412348533562705"
      ],
      "text/plain": [
       "[1] 0.4123485"
      ]
     },
     "metadata": {},
     "output_type": "display_data"
    }
   ],
   "source": [
    "#standard error of SRS estimate\n",
    "\n",
    "se_SRS <- sqrt(var(SRS_sample$G3)/n)\n",
    "se_SRS"
   ]
  },
  {
   "cell_type": "code",
   "execution_count": 14,
   "id": "71db68c3-ad6b-4fe3-bf6f-e1d7d46f2723",
   "metadata": {
    "tags": []
   },
   "outputs": [],
   "source": []
  },
  {
   "cell_type": "code",
   "execution_count": null,
   "id": "ddcccfa5-d8e1-4ca3-8a02-58cb1e23a84f",
   "metadata": {},
   "outputs": [],
   "source": []
  }
 ],
 "metadata": {
  "kernelspec": {
   "display_name": "R",
   "language": "R",
   "name": "ir"
  },
  "language_info": {
   "codemirror_mode": "r",
   "file_extension": ".r",
   "mimetype": "text/x-r-source",
   "name": "R",
   "pygments_lexer": "r",
   "version": "4.2.3"
  }
 },
 "nbformat": 4,
 "nbformat_minor": 5
}
